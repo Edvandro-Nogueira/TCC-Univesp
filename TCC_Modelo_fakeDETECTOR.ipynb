{
  "nbformat": 4,
  "nbformat_minor": 0,
  "metadata": {
    "colab": {
      "provenance": [],
      "authorship_tag": "ABX9TyNyGTBROelF+l1Uzd5ZZa6e",
      "include_colab_link": true
    },
    "kernelspec": {
      "name": "python3",
      "display_name": "Python 3"
    },
    "language_info": {
      "name": "python"
    }
  },
  "cells": [
    {
      "cell_type": "markdown",
      "metadata": {
        "id": "view-in-github",
        "colab_type": "text"
      },
      "source": [
        "<a href=\"https://colab.research.google.com/github/Edvandro-Nogueira/TCC-Univesp/blob/main/TCC_Modelo_fakeDETECTOR.ipynb\" target=\"_parent\"><img src=\"https://colab.research.google.com/assets/colab-badge.svg\" alt=\"Open In Colab\"/></a>"
      ]
    },
    {
      "cell_type": "code",
      "execution_count": 2,
      "metadata": {
        "id": "iczs9vI57vTv",
        "colab": {
          "base_uri": "https://localhost:8080/"
        },
        "outputId": "69810e13-c103-45e3-95c6-75693a2698b0"
      },
      "outputs": [
        {
          "output_type": "stream",
          "name": "stderr",
          "text": [
            "[nltk_data] Downloading package punkt to /root/nltk_data...\n",
            "[nltk_data]   Unzipping tokenizers/punkt.zip.\n"
          ]
        }
      ],
      "source": [
        "#Importações\n",
        "import pandas as pd\n",
        "from sklearn.model_selection import train_test_split\n",
        "#from sklearn.feature_extraction.text import TfidfVectorizer\n",
        "#from sklearn.svm import SVC\n",
        "import pickle\n",
        "import nltk\n",
        "nltk.download('punkt')\n",
        "from nltk.tokenize import word_tokenize\n",
        "import matplotlib.pyplot as plt\n",
        "import re\n",
        "import numpy as np\n",
        "from sklearn.preprocessing import LabelEncoder\n",
        "from tensorflow.keras.preprocessing.text import Tokenizer\n",
        "from tensorflow.keras.preprocessing.sequence import pad_sequences\n",
        "from tensorflow.keras.models import Sequential\n",
        "from tensorflow.keras.layers import Embedding, Conv1D, GlobalMaxPooling1D, Dense, Dropout\n",
        "#from keras.preprocessing.sequence import pad_sequences"
      ]
    },
    {
      "cell_type": "code",
      "source": [
        "#Versão do python\n",
        "import sys\n",
        "print(sys.version)"
      ],
      "metadata": {
        "colab": {
          "base_uri": "https://localhost:8080/"
        },
        "id": "i4Zl24hWO39W",
        "outputId": "0ac752f0-71cb-4a8f-ec16-f8a8a6a0ec4b"
      },
      "execution_count": 3,
      "outputs": [
        {
          "output_type": "stream",
          "name": "stdout",
          "text": [
            "3.10.12 (main, Jun 11 2023, 05:26:28) [GCC 11.4.0]\n"
          ]
        }
      ]
    },
    {
      "cell_type": "code",
      "source": [
        "dados_noticias = pd.read_table('https://raw.githubusercontent.com/Edvandro-Nogueira/TCC-Univesp/main/dados_noticias.csv', sep=\";\")\n",
        "dados_noticias"
      ],
      "metadata": {
        "colab": {
          "base_uri": "https://localhost:8080/",
          "height": 424
        },
        "id": "mQqkCmNU8vuv",
        "outputId": "925feeb6-1730-44bf-9485-4b547a616f33"
      },
      "execution_count": 4,
      "outputs": [
        {
          "output_type": "execute_result",
          "data": {
            "text/plain": [
              "                                                noticias  classe\n",
              "0      katia abreu diz vai colocar expulsao moldura n...       0\n",
              "1      ray peita bolsonaro conservador fake entrevist...       0\n",
              "2      reinaldo azevedo desmascarado policia federal ...       0\n",
              "3      relatorio assustador bndes mostra dinheiro pub...       0\n",
              "4      radialista americano fala sobre pt vendem ilus...       0\n",
              "...                                                  ...     ...\n",
              "10753  Aug 26, 2020 — É falso que neurocientista brit...       0\n",
              "10754  19/08/2020 - 17:45 / Atualizado em 19/08/2020 ...       0\n",
              "10755  Jun 6, 2020 — No Reino Unido, 80% da população...       0\n",
              "10756  Estudo do pesquisador Karl Friston conclui que...       0\n",
              "10757  ... estudos sobre o COVID-19 concluiu que a ma...       0\n",
              "\n",
              "[10758 rows x 2 columns]"
            ],
            "text/html": [
              "\n",
              "  <div id=\"df-e72d4088-d3cd-4cfa-962e-c92195f0c465\" class=\"colab-df-container\">\n",
              "    <div>\n",
              "<style scoped>\n",
              "    .dataframe tbody tr th:only-of-type {\n",
              "        vertical-align: middle;\n",
              "    }\n",
              "\n",
              "    .dataframe tbody tr th {\n",
              "        vertical-align: top;\n",
              "    }\n",
              "\n",
              "    .dataframe thead th {\n",
              "        text-align: right;\n",
              "    }\n",
              "</style>\n",
              "<table border=\"1\" class=\"dataframe\">\n",
              "  <thead>\n",
              "    <tr style=\"text-align: right;\">\n",
              "      <th></th>\n",
              "      <th>noticias</th>\n",
              "      <th>classe</th>\n",
              "    </tr>\n",
              "  </thead>\n",
              "  <tbody>\n",
              "    <tr>\n",
              "      <th>0</th>\n",
              "      <td>katia abreu diz vai colocar expulsao moldura n...</td>\n",
              "      <td>0</td>\n",
              "    </tr>\n",
              "    <tr>\n",
              "      <th>1</th>\n",
              "      <td>ray peita bolsonaro conservador fake entrevist...</td>\n",
              "      <td>0</td>\n",
              "    </tr>\n",
              "    <tr>\n",
              "      <th>2</th>\n",
              "      <td>reinaldo azevedo desmascarado policia federal ...</td>\n",
              "      <td>0</td>\n",
              "    </tr>\n",
              "    <tr>\n",
              "      <th>3</th>\n",
              "      <td>relatorio assustador bndes mostra dinheiro pub...</td>\n",
              "      <td>0</td>\n",
              "    </tr>\n",
              "    <tr>\n",
              "      <th>4</th>\n",
              "      <td>radialista americano fala sobre pt vendem ilus...</td>\n",
              "      <td>0</td>\n",
              "    </tr>\n",
              "    <tr>\n",
              "      <th>...</th>\n",
              "      <td>...</td>\n",
              "      <td>...</td>\n",
              "    </tr>\n",
              "    <tr>\n",
              "      <th>10753</th>\n",
              "      <td>Aug 26, 2020 — É falso que neurocientista brit...</td>\n",
              "      <td>0</td>\n",
              "    </tr>\n",
              "    <tr>\n",
              "      <th>10754</th>\n",
              "      <td>19/08/2020 - 17:45 / Atualizado em 19/08/2020 ...</td>\n",
              "      <td>0</td>\n",
              "    </tr>\n",
              "    <tr>\n",
              "      <th>10755</th>\n",
              "      <td>Jun 6, 2020 — No Reino Unido, 80% da população...</td>\n",
              "      <td>0</td>\n",
              "    </tr>\n",
              "    <tr>\n",
              "      <th>10756</th>\n",
              "      <td>Estudo do pesquisador Karl Friston conclui que...</td>\n",
              "      <td>0</td>\n",
              "    </tr>\n",
              "    <tr>\n",
              "      <th>10757</th>\n",
              "      <td>... estudos sobre o COVID-19 concluiu que a ma...</td>\n",
              "      <td>0</td>\n",
              "    </tr>\n",
              "  </tbody>\n",
              "</table>\n",
              "<p>10758 rows × 2 columns</p>\n",
              "</div>\n",
              "    <div class=\"colab-df-buttons\">\n",
              "\n",
              "  <div class=\"colab-df-container\">\n",
              "    <button class=\"colab-df-convert\" onclick=\"convertToInteractive('df-e72d4088-d3cd-4cfa-962e-c92195f0c465')\"\n",
              "            title=\"Convert this dataframe to an interactive table.\"\n",
              "            style=\"display:none;\">\n",
              "\n",
              "  <svg xmlns=\"http://www.w3.org/2000/svg\" height=\"24px\" viewBox=\"0 -960 960 960\">\n",
              "    <path d=\"M120-120v-720h720v720H120Zm60-500h600v-160H180v160Zm220 220h160v-160H400v160Zm0 220h160v-160H400v160ZM180-400h160v-160H180v160Zm440 0h160v-160H620v160ZM180-180h160v-160H180v160Zm440 0h160v-160H620v160Z\"/>\n",
              "  </svg>\n",
              "    </button>\n",
              "\n",
              "  <style>\n",
              "    .colab-df-container {\n",
              "      display:flex;\n",
              "      gap: 12px;\n",
              "    }\n",
              "\n",
              "    .colab-df-convert {\n",
              "      background-color: #E8F0FE;\n",
              "      border: none;\n",
              "      border-radius: 50%;\n",
              "      cursor: pointer;\n",
              "      display: none;\n",
              "      fill: #1967D2;\n",
              "      height: 32px;\n",
              "      padding: 0 0 0 0;\n",
              "      width: 32px;\n",
              "    }\n",
              "\n",
              "    .colab-df-convert:hover {\n",
              "      background-color: #E2EBFA;\n",
              "      box-shadow: 0px 1px 2px rgba(60, 64, 67, 0.3), 0px 1px 3px 1px rgba(60, 64, 67, 0.15);\n",
              "      fill: #174EA6;\n",
              "    }\n",
              "\n",
              "    .colab-df-buttons div {\n",
              "      margin-bottom: 4px;\n",
              "    }\n",
              "\n",
              "    [theme=dark] .colab-df-convert {\n",
              "      background-color: #3B4455;\n",
              "      fill: #D2E3FC;\n",
              "    }\n",
              "\n",
              "    [theme=dark] .colab-df-convert:hover {\n",
              "      background-color: #434B5C;\n",
              "      box-shadow: 0px 1px 3px 1px rgba(0, 0, 0, 0.15);\n",
              "      filter: drop-shadow(0px 1px 2px rgba(0, 0, 0, 0.3));\n",
              "      fill: #FFFFFF;\n",
              "    }\n",
              "  </style>\n",
              "\n",
              "    <script>\n",
              "      const buttonEl =\n",
              "        document.querySelector('#df-e72d4088-d3cd-4cfa-962e-c92195f0c465 button.colab-df-convert');\n",
              "      buttonEl.style.display =\n",
              "        google.colab.kernel.accessAllowed ? 'block' : 'none';\n",
              "\n",
              "      async function convertToInteractive(key) {\n",
              "        const element = document.querySelector('#df-e72d4088-d3cd-4cfa-962e-c92195f0c465');\n",
              "        const dataTable =\n",
              "          await google.colab.kernel.invokeFunction('convertToInteractive',\n",
              "                                                    [key], {});\n",
              "        if (!dataTable) return;\n",
              "\n",
              "        const docLinkHtml = 'Like what you see? Visit the ' +\n",
              "          '<a target=\"_blank\" href=https://colab.research.google.com/notebooks/data_table.ipynb>data table notebook</a>'\n",
              "          + ' to learn more about interactive tables.';\n",
              "        element.innerHTML = '';\n",
              "        dataTable['output_type'] = 'display_data';\n",
              "        await google.colab.output.renderOutput(dataTable, element);\n",
              "        const docLink = document.createElement('div');\n",
              "        docLink.innerHTML = docLinkHtml;\n",
              "        element.appendChild(docLink);\n",
              "      }\n",
              "    </script>\n",
              "  </div>\n",
              "\n",
              "\n",
              "<div id=\"df-41a4cbc9-3b24-4475-a014-b8185f3610fd\">\n",
              "  <button class=\"colab-df-quickchart\" onclick=\"quickchart('df-41a4cbc9-3b24-4475-a014-b8185f3610fd')\"\n",
              "            title=\"Suggest charts.\"\n",
              "            style=\"display:none;\">\n",
              "\n",
              "<svg xmlns=\"http://www.w3.org/2000/svg\" height=\"24px\"viewBox=\"0 0 24 24\"\n",
              "     width=\"24px\">\n",
              "    <g>\n",
              "        <path d=\"M19 3H5c-1.1 0-2 .9-2 2v14c0 1.1.9 2 2 2h14c1.1 0 2-.9 2-2V5c0-1.1-.9-2-2-2zM9 17H7v-7h2v7zm4 0h-2V7h2v10zm4 0h-2v-4h2v4z\"/>\n",
              "    </g>\n",
              "</svg>\n",
              "  </button>\n",
              "\n",
              "<style>\n",
              "  .colab-df-quickchart {\n",
              "      --bg-color: #E8F0FE;\n",
              "      --fill-color: #1967D2;\n",
              "      --hover-bg-color: #E2EBFA;\n",
              "      --hover-fill-color: #174EA6;\n",
              "      --disabled-fill-color: #AAA;\n",
              "      --disabled-bg-color: #DDD;\n",
              "  }\n",
              "\n",
              "  [theme=dark] .colab-df-quickchart {\n",
              "      --bg-color: #3B4455;\n",
              "      --fill-color: #D2E3FC;\n",
              "      --hover-bg-color: #434B5C;\n",
              "      --hover-fill-color: #FFFFFF;\n",
              "      --disabled-bg-color: #3B4455;\n",
              "      --disabled-fill-color: #666;\n",
              "  }\n",
              "\n",
              "  .colab-df-quickchart {\n",
              "    background-color: var(--bg-color);\n",
              "    border: none;\n",
              "    border-radius: 50%;\n",
              "    cursor: pointer;\n",
              "    display: none;\n",
              "    fill: var(--fill-color);\n",
              "    height: 32px;\n",
              "    padding: 0;\n",
              "    width: 32px;\n",
              "  }\n",
              "\n",
              "  .colab-df-quickchart:hover {\n",
              "    background-color: var(--hover-bg-color);\n",
              "    box-shadow: 0 1px 2px rgba(60, 64, 67, 0.3), 0 1px 3px 1px rgba(60, 64, 67, 0.15);\n",
              "    fill: var(--button-hover-fill-color);\n",
              "  }\n",
              "\n",
              "  .colab-df-quickchart-complete:disabled,\n",
              "  .colab-df-quickchart-complete:disabled:hover {\n",
              "    background-color: var(--disabled-bg-color);\n",
              "    fill: var(--disabled-fill-color);\n",
              "    box-shadow: none;\n",
              "  }\n",
              "\n",
              "  .colab-df-spinner {\n",
              "    border: 2px solid var(--fill-color);\n",
              "    border-color: transparent;\n",
              "    border-bottom-color: var(--fill-color);\n",
              "    animation:\n",
              "      spin 1s steps(1) infinite;\n",
              "  }\n",
              "\n",
              "  @keyframes spin {\n",
              "    0% {\n",
              "      border-color: transparent;\n",
              "      border-bottom-color: var(--fill-color);\n",
              "      border-left-color: var(--fill-color);\n",
              "    }\n",
              "    20% {\n",
              "      border-color: transparent;\n",
              "      border-left-color: var(--fill-color);\n",
              "      border-top-color: var(--fill-color);\n",
              "    }\n",
              "    30% {\n",
              "      border-color: transparent;\n",
              "      border-left-color: var(--fill-color);\n",
              "      border-top-color: var(--fill-color);\n",
              "      border-right-color: var(--fill-color);\n",
              "    }\n",
              "    40% {\n",
              "      border-color: transparent;\n",
              "      border-right-color: var(--fill-color);\n",
              "      border-top-color: var(--fill-color);\n",
              "    }\n",
              "    60% {\n",
              "      border-color: transparent;\n",
              "      border-right-color: var(--fill-color);\n",
              "    }\n",
              "    80% {\n",
              "      border-color: transparent;\n",
              "      border-right-color: var(--fill-color);\n",
              "      border-bottom-color: var(--fill-color);\n",
              "    }\n",
              "    90% {\n",
              "      border-color: transparent;\n",
              "      border-bottom-color: var(--fill-color);\n",
              "    }\n",
              "  }\n",
              "</style>\n",
              "\n",
              "  <script>\n",
              "    async function quickchart(key) {\n",
              "      const quickchartButtonEl =\n",
              "        document.querySelector('#' + key + ' button');\n",
              "      quickchartButtonEl.disabled = true;  // To prevent multiple clicks.\n",
              "      quickchartButtonEl.classList.add('colab-df-spinner');\n",
              "      try {\n",
              "        const charts = await google.colab.kernel.invokeFunction(\n",
              "            'suggestCharts', [key], {});\n",
              "      } catch (error) {\n",
              "        console.error('Error during call to suggestCharts:', error);\n",
              "      }\n",
              "      quickchartButtonEl.classList.remove('colab-df-spinner');\n",
              "      quickchartButtonEl.classList.add('colab-df-quickchart-complete');\n",
              "    }\n",
              "    (() => {\n",
              "      let quickchartButtonEl =\n",
              "        document.querySelector('#df-41a4cbc9-3b24-4475-a014-b8185f3610fd button');\n",
              "      quickchartButtonEl.style.display =\n",
              "        google.colab.kernel.accessAllowed ? 'block' : 'none';\n",
              "    })();\n",
              "  </script>\n",
              "</div>\n",
              "    </div>\n",
              "  </div>\n"
            ]
          },
          "metadata": {},
          "execution_count": 4
        }
      ]
    },
    {
      "cell_type": "code",
      "source": [
        "#Certificamos que existem apenas 2 objetos\n",
        "dados_noticias['classe'].unique()"
      ],
      "metadata": {
        "colab": {
          "base_uri": "https://localhost:8080/"
        },
        "id": "Of-9L0WO9IzN",
        "outputId": "1c84f671-758a-4319-f502-b57f167815fe"
      },
      "execution_count": 5,
      "outputs": [
        {
          "output_type": "execute_result",
          "data": {
            "text/plain": [
              "array([0, 1])"
            ]
          },
          "metadata": {},
          "execution_count": 5
        }
      ]
    },
    {
      "cell_type": "code",
      "source": [
        "#Contando quantos falsos e quantos verdadeiros o dataset possui\n",
        "contagem = dados_noticias['classe'].value_counts()\n",
        "print(contagem)"
      ],
      "metadata": {
        "colab": {
          "base_uri": "https://localhost:8080/"
        },
        "id": "adOSGfGD_JB3",
        "outputId": "b6b99444-1263-4e00-fb15-c1aae021678b"
      },
      "execution_count": 6,
      "outputs": [
        {
          "output_type": "stream",
          "name": "stdout",
          "text": [
            "0    6143\n",
            "1    4615\n",
            "Name: classe, dtype: int64\n"
          ]
        }
      ]
    },
    {
      "cell_type": "markdown",
      "source": [
        "###Separando os dados em treino, validação e teste."
      ],
      "metadata": {
        "id": "zg_iofIH_Y3y"
      }
    },
    {
      "cell_type": "code",
      "source": [
        "X = dados_noticias[\"noticias\"]\n",
        "y = dados_noticias[\"classe\"]\n",
        "\n",
        "# Etapa 1: Separar 90%-10% para teste final\n",
        "X_train_val, X_test, y_train_val, y_test = train_test_split(X, y, test_size=0.1, random_state=42, stratify=y)\n",
        "\n",
        "# Etapa 2: Separar 90% restantes em 80%-20% para treinamento e validação\n",
        "X_train, X_val, y_train, y_val = train_test_split(X_train_val, y_train_val, test_size=0.2, random_state=42, stratify=y_train_val)\n",
        "\n",
        "# Os dados de treinamento estão em X_train e y_train\n",
        "# Os dados de validação estão em X_val e y_val\n",
        "# Os dados de teste final estão em X_test e y_test"
      ],
      "metadata": {
        "id": "iJzWyHvq_JzM"
      },
      "execution_count": 7,
      "outputs": []
    },
    {
      "cell_type": "markdown",
      "source": [
        "###Criando o modelo novo"
      ],
      "metadata": {
        "id": "i2T62DOg_qLk"
      }
    },
    {
      "cell_type": "code",
      "source": [
        "'''#Colocar stop words\n",
        "\n",
        "# Fazendo a tokenização dos textos\n",
        "tokenized_textos = [word_tokenize(str(texto)) for texto in dados_noticias[\"noticias\"]]\n",
        "\n",
        "# Convertendo as classes para rótulos numéricos\n",
        "classes_numericas = []\n",
        "classes_unicas = list(set(dados_noticias[\"classe\"]))\n",
        "for classe in dados_noticias[\"classe\"]:\n",
        "    classes_numericas.append(classes_unicas.index(classe))\n",
        "\n",
        "# Tokenização dos textos de treinamento, validação e teste\n",
        "tokenized_train = [word_tokenize(str(texto)) for texto in X_train]\n",
        "tokenized_val = [word_tokenize(str(texto)) for texto in X_val]\n",
        "tokenized_test = [word_tokenize(str(texto)) for texto in X_test]\n",
        "\n",
        "# Vetorização dos textos usando o TF-IDF\n",
        "vectorizer = TfidfVectorizer()\n",
        "X_train_vectorized = vectorizer.fit_transform([' '.join(texto) for texto in tokenized_train])\n",
        "X_val_vectorized = vectorizer.transform([' '.join(texto) for texto in tokenized_val])\n",
        "X_test_vectorized = vectorizer.transform([' '.join(texto) for texto in tokenized_test])\n",
        "\n",
        "# Criação e treinamento do modelo\n",
        "model = SVC()\n",
        "model.fit(X_train_vectorized, y_train)\n",
        "\n",
        "# Avaliação do modelo\n",
        "accuracy = model.score(X_val_vectorized, y_val)\n",
        "print(\"Acurácia na validação: {:.2f}%\".format(accuracy * 100))\n",
        "\n",
        "# Avaliação do modelo no teste final\n",
        "accuracy_test = model.score(X_test_vectorized, y_test)\n",
        "print(\"Acurácia no teste final: {:.2f}%\".format(accuracy_test * 100))'''"
      ],
      "metadata": {
        "id": "Me6FK7A1Ko8t"
      },
      "execution_count": null,
      "outputs": []
    },
    {
      "cell_type": "code",
      "source": [
        "'''# Previsões no conjunto de validação\n",
        "y_pred_proba = model.decision_function(X_val_vectorized)\n",
        "fpr, tpr, thresholds = roc_curve(y_val, y_pred_proba)\n",
        "roc_auc = auc(fpr, tpr)\n",
        "\n",
        "# Plot da curva ROC\n",
        "plt.figure(figsize=(8, 6))\n",
        "plt.plot(fpr, tpr, color='blue', label='ROC curve (AUC = %0.2f)' % roc_auc)\n",
        "plt.plot([0, 1], [0, 1], color='red', linestyle='--', label='Random Guessing')\n",
        "plt.xlim([0.0, 1.0])\n",
        "plt.ylim([0.0, 1.05])\n",
        "plt.xlabel('False Positive Rate')\n",
        "plt.ylabel('True Positive Rate')\n",
        "plt.title('Receiver Operating Characteristic')\n",
        "plt.legend(loc=\"lower right\")\n",
        "plt.show()'''"
      ],
      "metadata": {
        "id": "kfF0OxJrSq2A"
      },
      "execution_count": null,
      "outputs": []
    },
    {
      "cell_type": "code",
      "source": [
        "'''# Criar um tokenizador simples\n",
        "tokenizador = nltk.tokenize.TreebankWordTokenizer()\n",
        "\n",
        "# Salvar o tokenizador\n",
        "with open('tokenizador.pickle', 'wb') as handle:\n",
        "    pickle.dump(tokenizador, handle, protocol=pickle.HIGHEST_PROTOCOL)'''"
      ],
      "metadata": {
        "id": "1pRyrl8EDwk8"
      },
      "execution_count": null,
      "outputs": []
    },
    {
      "cell_type": "code",
      "source": [
        "'''# Carregando o tokenizador treinado anteriormente\n",
        "with open('tokenizador.pickle', 'rb') as handle:\n",
        "    tokenizador = pickle.load(handle)\n",
        "\n",
        "# Nova entrada a ser avaliada\n",
        "nova_entrada = \"Oct 28, 2018 — ... em 631 das 645 cidades do estado de São Paulo no 2º turno das eleições de 2018. Fernando Haddad (PT) ganhou em apenas 14 municípios. ... Sandovalina e Euclides da Cunha Paulista), assim como no 1º turno. ... No geral, no estado, Bolsonaro teve 67,97% dos votos válidos e Haddad, 32,03%.\t\"\n",
        "\n",
        "# Tokenize a nova entrada usando o tokenizador treinado\n",
        "tokens = tokenizador.tokenize(nova_entrada)\n",
        "\n",
        "# Vetorização dos tokens usando o TF-IDF\n",
        "texto_vectorized = vectorizer.transform([' '.join(tokens)])\n",
        "\n",
        "# Fazendo a previsão com o modelo treinado\n",
        "previsao = model.predict(texto_vectorized)\n",
        "\n",
        "# Convertendo o rótulo numérico da previsão para a classe original\n",
        "classe_prevista = classes_unicas[previsao[0]]\n",
        "\n",
        "# Imprimindo a classe prevista\n",
        "print(\"Classe prevista:\", classe_prevista)'''"
      ],
      "metadata": {
        "id": "LfCJuEJcAcd5"
      },
      "execution_count": null,
      "outputs": []
    },
    {
      "cell_type": "markdown",
      "source": [
        "###Modelo CNN"
      ],
      "metadata": {
        "id": "xCa67ax6ideT"
      }
    },
    {
      "cell_type": "code",
      "source": [
        "'''label_encoder = LabelEncoder()\n",
        "labels = label_encoder.fit_transform(dados_noticias['classe'])'''"
      ],
      "metadata": {
        "id": "12RZWd2QL2pG"
      },
      "execution_count": null,
      "outputs": []
    },
    {
      "cell_type": "code",
      "source": [
        "'''train_texts, test_texts, train_labels, test_labels = train_test_split(dados_noticias['noticias'], labels, test_size=0.2, random_state=42)\n",
        "train_texts = train_texts.astype(str)\n",
        "test_texts = test_texts.astype(str)'''"
      ],
      "metadata": {
        "id": "tvDKqrOlikPT"
      },
      "execution_count": null,
      "outputs": []
    },
    {
      "cell_type": "code",
      "source": [
        "'''max_sequence_length = 1000\n",
        "\n",
        "tokenizer = Tokenizer()\n",
        "tokenizer.fit_on_texts(train_texts)\n",
        "\n",
        "train_sequences = tokenizer.texts_to_sequences(train_texts)\n",
        "train_sequences = pad_sequences(train_sequences, maxlen=max_sequence_length)\n",
        "\n",
        "test_sequences = tokenizer.texts_to_sequences(test_texts)\n",
        "test_sequences = pad_sequences(test_sequences, maxlen=max_sequence_length)'''"
      ],
      "metadata": {
        "id": "gbJaBwDPivpl"
      },
      "execution_count": null,
      "outputs": []
    },
    {
      "cell_type": "code",
      "source": [
        "'''vocab_size = len(tokenizer.word_index) + 1\n",
        "embedding_dim = 100\n",
        "\n",
        "model = Sequential()\n",
        "model.add(Embedding(vocab_size, embedding_dim, input_length=max_sequence_length))\n",
        "model.add(Conv1D(128, 5, activation='relu'))\n",
        "model.add(GlobalMaxPooling1D())\n",
        "model.add(Dense(128, activation='relu'))\n",
        "model.add(Dense(1, activation='sigmoid'))\n",
        "\n",
        "model.compile(optimizer='adam', loss='binary_crossentropy', metrics=['accuracy'])'''"
      ],
      "metadata": {
        "id": "S5WPnVAYjlDu"
      },
      "execution_count": null,
      "outputs": []
    },
    {
      "cell_type": "code",
      "source": [
        "'''model.fit(train_sequences, train_labels, epochs=3, batch_size=32, validation_data=(test_sequences, test_labels))\n",
        "\n",
        "loss, accuracy = model.evaluate(test_sequences, test_labels)\n",
        "print(\"Accuracy: {:.2f}%\".format(accuracy * 100))'''"
      ],
      "metadata": {
        "id": "HLn-YBftjmSe"
      },
      "execution_count": null,
      "outputs": []
    },
    {
      "cell_type": "code",
      "source": [
        "'''#Fazendo previsão simples\n",
        "text = \"O aparecimento de surtos de Covid-19 em diferentes coros levantou a\"\n",
        "text = text.lower()\n",
        "text = re.sub(r\"[^\\w\\s]\", \"\", text)\n",
        "text_sequence = tokenizer.texts_to_sequences([text])\n",
        "text_sequence = pad_sequences(text_sequence, maxlen=max_sequence_length)\n",
        "prediction = model.predict(text_sequence)\n",
        "#prediction = model.predict_classes(text_sequence)\n",
        "prediction_classes = (prediction > 0.5).astype(int)\n",
        "print(prediction_classes[0][0])'''"
      ],
      "metadata": {
        "id": "zh-NhdOejqbI"
      },
      "execution_count": null,
      "outputs": []
    },
    {
      "cell_type": "code",
      "source": [
        "#Segunda versão"
      ],
      "metadata": {
        "id": "cq-aYHVlooK1"
      },
      "execution_count": null,
      "outputs": []
    },
    {
      "cell_type": "code",
      "source": [
        "train_texts = X_train.astype(str)\n",
        "val_texts = X_val.astype(str)\n",
        "test_texts = X_test.astype(str)\n",
        "\n",
        "max_sequence_length = 1000\n",
        "\n",
        "tokenizer = Tokenizer()\n",
        "tokenizer.fit_on_texts(train_texts)\n",
        "\n",
        "train_sequences = tokenizer.texts_to_sequences(train_texts)\n",
        "train_sequences = pad_sequences(train_sequences, maxlen=max_sequence_length)\n",
        "\n",
        "val_sequences = tokenizer.texts_to_sequences(val_texts)\n",
        "val_sequences = pad_sequences(val_sequences, maxlen=max_sequence_length)\n",
        "\n",
        "test_sequences = tokenizer.texts_to_sequences(test_texts)\n",
        "test_sequences = pad_sequences(test_sequences, maxlen=max_sequence_length)\n",
        "\n",
        "vocab_size = len(tokenizer.word_index) + 1\n",
        "embedding_dim = 200\n",
        "\n",
        "fakeDETECTOR = Sequential()\n",
        "fakeDETECTOR.add(Embedding(vocab_size, embedding_dim, input_length=max_sequence_length))\n",
        "fakeDETECTOR.add(Conv1D(256, 5, activation='relu'))\n",
        "fakeDETECTOR.add(GlobalMaxPooling1D())\n",
        "fakeDETECTOR.add(Dense(256, activation='relu'))\n",
        "#fakeDETECTOR.add(Dense(128, activation='relu'))\n",
        "fakeDETECTOR.add(Dense(1, activation='sigmoid'))\n",
        "\n",
        "fakeDETECTOR.compile(optimizer='adam', loss='binary_crossentropy', metrics=['accuracy'])\n",
        "\n",
        "fakeDETECTOR.fit(train_sequences, y_train, epochs=4, batch_size=32, validation_data=(val_sequences, y_val))\n",
        "\n",
        "loss, accuracy = fakeDETECTOR.evaluate(val_sequences, y_val)\n",
        "print(\"Acurácia: {:.2f}%\".format(accuracy * 100))"
      ],
      "metadata": {
        "colab": {
          "base_uri": "https://localhost:8080/"
        },
        "id": "sULzPPUnoqiK",
        "outputId": "9eb8ca8e-f03d-4dc5-bd3e-d7748f409dd4"
      },
      "execution_count": 10,
      "outputs": [
        {
          "output_type": "stream",
          "name": "stdout",
          "text": [
            "Epoch 1/4\n",
            "243/243 [==============================] - 332s 1s/step - loss: 0.3568 - accuracy: 0.8462 - val_loss: 0.2524 - val_accuracy: 0.8916\n",
            "Epoch 2/4\n",
            "243/243 [==============================] - 329s 1s/step - loss: 0.0867 - accuracy: 0.9699 - val_loss: 0.2385 - val_accuracy: 0.9102\n",
            "Epoch 3/4\n",
            "243/243 [==============================] - 329s 1s/step - loss: 0.0111 - accuracy: 0.9966 - val_loss: 0.2851 - val_accuracy: 0.9128\n",
            "Epoch 4/4\n",
            "243/243 [==============================] - 329s 1s/step - loss: 0.0072 - accuracy: 0.9966 - val_loss: 0.3032 - val_accuracy: 0.9112\n",
            "61/61 [==============================] - 18s 296ms/step - loss: 0.3032 - accuracy: 0.9112\n",
            "Acurácia: 91.12%\n"
          ]
        }
      ]
    },
    {
      "cell_type": "code",
      "source": [
        "Mais camadas Densas não melhorou este modelo\n",
        "Aumentar o numero de kernel não melhorou este modelo\n",
        "Numero de epocas igual a 10 não melhorou este modelo, em todos os testes 3 epocas estão com uma acuracia melhor na validação e perca menor\n",
        "Testando aumentar o numero de unidades --> Após 512 unidades o treinamento fica muito lento e não houve melhora no modelo.\n",
        "Testando aumentar ou diminuir o numero de treinamento por lote\n",
        "Testando mudar o otimizador\n",
        "\n",
        "\n",
        "# 243/243 [==============================] - 164s 677ms/step - loss: 0.0171 - accuracy: 0.9944 - val_loss: 0.2746 - val_accuracy: 0.9107\n",
        "fakeDETECTOR = Sequential()\n",
        "fakeDETECTOR.add(Embedding(vocab_size, embedding_dim, input_length=max_sequence_length))\n",
        "fakeDETECTOR.add(Conv1D(256, 5, activation='relu'))\n",
        "fakeDETECTOR.add(GlobalMaxPooling1D())\n",
        "fakeDETECTOR.add(Dense(256, activation='relu'))\n",
        "#fakeDETECTOR.add(Dense(128, activation='relu'))\n",
        "fakeDETECTOR.add(Dense(1, activation='sigmoid'))\n",
        "fakeDETECTOR.compile(optimizer='adam', loss='binary_crossentropy', metrics=['accuracy'])\n",
        "fakeDETECTOR.fit(train_sequences, y_train, epochs=3, batch_size=32, validation_data=(val_sequences, y_val))\n",
        "\n",
        "#243/243 [==============================] - 162s 667ms/step - loss: 0.0065 - accuracy: 0.9973 - val_loss: 0.3195 - val_accuracy: 0.9128\n",
        "fakeDETECTOR = Sequential()\n",
        "fakeDETECTOR.add(Embedding(vocab_size, embedding_dim, input_length=max_sequence_length))\n",
        "fakeDETECTOR.add(Conv1D(256, 5, activation='relu'))\n",
        "fakeDETECTOR.add(GlobalMaxPooling1D())\n",
        "fakeDETECTOR.add(Dense(256, activation='relu'))\n",
        "#fakeDETECTOR.add(Dense(128, activation='relu'))\n",
        "fakeDETECTOR.add(Dense(1, activation='sigmoid'))\n",
        "fakeDETECTOR.compile(optimizer='adam', loss='binary_crossentropy', metrics=['accuracy'])\n",
        "fakeDETECTOR.fit(train_sequences, y_train, epochs=4, batch_size=32, validation_data=(val_sequences, y_val))"
      ],
      "metadata": {
        "id": "84ojhEaTSewp"
      },
      "execution_count": null,
      "outputs": []
    },
    {
      "cell_type": "code",
      "source": [
        "#Fazendo previsão simples\n",
        "text = \"O aparecimento de surtos de Covid-19 em diferentes coros levantou a\"\n",
        "#text = \"Infelizmente é confirmado ‘acaba de falecer’. Apresentador José Luiz Datena (com letras pequenas) sofre perda e está de (com letras grandes) Luto. LUT0: Infelizmente Nosso amado Datena da Band, horas após cirurgia delicada recebe pior das notícias\"\n",
        "text = text.lower()\n",
        "text = re.sub(r\"[^\\w\\s]\", \"\", text)\n",
        "text_sequence = tokenizer.texts_to_sequences([text])\n",
        "text_sequence = pad_sequences(text_sequence, maxlen=max_sequence_length)\n",
        "prediction = fakeDETECTOR.predict(text_sequence)\n",
        "#prediction = fakeDETECTOR.predict_classes(text_sequence)\n",
        "prediction_classes = (prediction > 0.5).astype(int)\n",
        "print(prediction_classes[0][0])"
      ],
      "metadata": {
        "colab": {
          "base_uri": "https://localhost:8080/"
        },
        "id": "r2AYuLpapV-j",
        "outputId": "010e3e3e-3637-4d45-c598-e7871e4eff15"
      },
      "execution_count": 18,
      "outputs": [
        {
          "output_type": "stream",
          "name": "stdout",
          "text": [
            "1/1 [==============================] - 0s 29ms/step\n",
            "1\n"
          ]
        }
      ]
    },
    {
      "cell_type": "code",
      "source": [
        "from tensorflow.keras.optimizers import Adagrad\n",
        "\n",
        "fakeDETECTOR = Sequential()\n",
        "fakeDETECTOR.add(Embedding(vocab_size, embedding_dim, input_length=max_sequence_length))\n",
        "fakeDETECTOR.add(Conv1D(256, 5, activation='relu'))\n",
        "fakeDETECTOR.add(GlobalMaxPooling1D())\n",
        "fakeDETECTOR.add(Dense(256, activation='relu'))\n",
        "fakeDETECTOR.add(Dense(1, activation='sigmoid'))\n",
        "\n",
        "fakeDETECTOR.compile(optimizer=Adagrad(), loss='binary_crossentropy', metrics=['accuracy'])\n",
        "fakeDETECTOR.fit(train_sequences, y_train, epochs=4, batch_size=32, validation_data=(val_sequences, y_val))"
      ],
      "metadata": {
        "id": "U6w6zWGjq-Yf",
        "colab": {
          "base_uri": "https://localhost:8080/"
        },
        "outputId": "2669214b-30d7-49fd-8217-232d6302dff7"
      },
      "execution_count": 11,
      "outputs": [
        {
          "output_type": "stream",
          "name": "stdout",
          "text": [
            "Epoch 1/4\n",
            "243/243 [==============================] - 264s 1s/step - loss: 0.6892 - accuracy: 0.5654 - val_loss: 0.6861 - val_accuracy: 0.5710\n",
            "Epoch 2/4\n",
            "243/243 [==============================] - 257s 1s/step - loss: 0.6839 - accuracy: 0.5711 - val_loss: 0.6814 - val_accuracy: 0.5710\n",
            "Epoch 3/4\n",
            "243/243 [==============================] - 258s 1s/step - loss: 0.6796 - accuracy: 0.5711 - val_loss: 0.6773 - val_accuracy: 0.5710\n",
            "Epoch 4/4\n",
            "243/243 [==============================] - 257s 1s/step - loss: 0.6757 - accuracy: 0.5711 - val_loss: 0.6733 - val_accuracy: 0.5710\n"
          ]
        },
        {
          "output_type": "execute_result",
          "data": {
            "text/plain": [
              "<keras.src.callbacks.History at 0x791a65ee0c10>"
            ]
          },
          "metadata": {},
          "execution_count": 11
        }
      ]
    },
    {
      "cell_type": "code",
      "source": [
        "from tensorflow.keras.optimizers import Adamax\n",
        "\n",
        "fakeDETECTOR = Sequential()\n",
        "fakeDETECTOR.add(Embedding(vocab_size, embedding_dim, input_length=max_sequence_length))\n",
        "fakeDETECTOR.add(Conv1D(256, 5, activation='relu'))\n",
        "fakeDETECTOR.add(GlobalMaxPooling1D())\n",
        "fakeDETECTOR.add(Dense(256, activation='relu'))\n",
        "fakeDETECTOR.add(Dense(1, activation='sigmoid'))\n",
        "\n",
        "fakeDETECTOR.compile(optimizer=Adamax(), loss='binary_crossentropy', metrics=['accuracy'])\n",
        "fakeDETECTOR.fit(train_sequences, y_train, epochs=4, batch_size=32, validation_data=(val_sequences, y_val))"
      ],
      "metadata": {
        "colab": {
          "base_uri": "https://localhost:8080/"
        },
        "id": "je2GcvAcKvpi",
        "outputId": "6f474ec4-988c-47b8-ab0b-5ee839ff92b9"
      },
      "execution_count": 12,
      "outputs": [
        {
          "output_type": "stream",
          "name": "stdout",
          "text": [
            "Epoch 1/4\n",
            "243/243 [==============================] - 326s 1s/step - loss: 0.4573 - accuracy: 0.8119 - val_loss: 0.3234 - val_accuracy: 0.8601\n",
            "Epoch 2/4\n",
            "243/243 [==============================] - 322s 1s/step - loss: 0.2527 - accuracy: 0.9001 - val_loss: 0.2705 - val_accuracy: 0.8818\n",
            "Epoch 3/4\n",
            "243/243 [==============================] - 342s 1s/step - loss: 0.1506 - accuracy: 0.9500 - val_loss: 0.2563 - val_accuracy: 0.8931\n",
            "Epoch 4/4\n",
            "243/243 [==============================] - 320s 1s/step - loss: 0.0696 - accuracy: 0.9824 - val_loss: 0.2367 - val_accuracy: 0.9050\n"
          ]
        },
        {
          "output_type": "execute_result",
          "data": {
            "text/plain": [
              "<keras.src.callbacks.History at 0x791a66f70250>"
            ]
          },
          "metadata": {},
          "execution_count": 12
        }
      ]
    },
    {
      "cell_type": "code",
      "source": [
        "from tensorflow.keras.optimizers import Nadam\n",
        "\n",
        "fakeDETECTOR = Sequential()\n",
        "fakeDETECTOR.add(Embedding(vocab_size, embedding_dim, input_length=max_sequence_length))\n",
        "fakeDETECTOR.add(Conv1D(256, 5, activation='relu'))\n",
        "fakeDETECTOR.add(GlobalMaxPooling1D())\n",
        "fakeDETECTOR.add(Dense(256, activation='relu'))\n",
        "fakeDETECTOR.add(Dense(1, activation='sigmoid'))\n",
        "\n",
        "fakeDETECTOR.compile(optimizer=Nadam(), loss='binary_crossentropy', metrics=['accuracy'])\n",
        "fakeDETECTOR.fit(train_sequences, y_train, epochs=4, batch_size=32, validation_data=(val_sequences, y_val))"
      ],
      "metadata": {
        "colab": {
          "base_uri": "https://localhost:8080/"
        },
        "id": "NNueZBdpK0ly",
        "outputId": "95c00a60-277e-40ea-c597-3343e7f3617b"
      },
      "execution_count": 13,
      "outputs": [
        {
          "output_type": "stream",
          "name": "stdout",
          "text": [
            "Epoch 1/4\n",
            "243/243 [==============================] - 330s 1s/step - loss: 0.3534 - accuracy: 0.8445 - val_loss: 0.2381 - val_accuracy: 0.8942\n",
            "Epoch 2/4\n",
            "243/243 [==============================] - 329s 1s/step - loss: 0.0829 - accuracy: 0.9721 - val_loss: 0.2365 - val_accuracy: 0.9102\n",
            "Epoch 3/4\n",
            "243/243 [==============================] - 325s 1s/step - loss: 0.0110 - accuracy: 0.9965 - val_loss: 0.2912 - val_accuracy: 0.8931\n",
            "Epoch 4/4\n",
            "243/243 [==============================] - 324s 1s/step - loss: 0.0074 - accuracy: 0.9964 - val_loss: 0.2946 - val_accuracy: 0.8978\n"
          ]
        },
        {
          "output_type": "execute_result",
          "data": {
            "text/plain": [
              "<keras.src.callbacks.History at 0x791a65e0ce20>"
            ]
          },
          "metadata": {},
          "execution_count": 13
        }
      ]
    },
    {
      "cell_type": "code",
      "source": [
        "from tensorflow.keras.optimizers import Nadam\n",
        "\n",
        "fakeDETECTOR = Sequential()\n",
        "fakeDETECTOR.add(Embedding(vocab_size, embedding_dim, input_length=max_sequence_length))\n",
        "fakeDETECTOR.add(Conv1D(128, 5, activation='relu'))\n",
        "fakeDETECTOR.add(GlobalMaxPooling1D())\n",
        "fakeDETECTOR.add(Dense(128, activation='relu'))\n",
        "fakeDETECTOR.add(Dense(1, activation='sigmoid'))\n",
        "\n",
        "fakeDETECTOR.compile(optimizer=Nadam(), loss='binary_crossentropy', metrics=['accuracy'])\n",
        "fakeDETECTOR.fit(train_sequences, y_train, epochs=2, batch_size=32, validation_data=(val_sequences, y_val))"
      ],
      "metadata": {
        "colab": {
          "base_uri": "https://localhost:8080/"
        },
        "id": "W319jIYjZjzy",
        "outputId": "fe03d594-9b14-4bf2-8848-d82771b9084b"
      },
      "execution_count": 15,
      "outputs": [
        {
          "output_type": "stream",
          "name": "stdout",
          "text": [
            "Epoch 1/2\n",
            "243/243 [==============================] - 227s 928ms/step - loss: 0.3700 - accuracy: 0.8340 - val_loss: 0.2490 - val_accuracy: 0.8844\n",
            "Epoch 2/2\n",
            "243/243 [==============================] - 229s 942ms/step - loss: 0.0970 - accuracy: 0.9675 - val_loss: 0.2334 - val_accuracy: 0.9128\n"
          ]
        },
        {
          "output_type": "execute_result",
          "data": {
            "text/plain": [
              "<keras.src.callbacks.History at 0x791a66acfdc0>"
            ]
          },
          "metadata": {},
          "execution_count": 15
        }
      ]
    }
  ]
}