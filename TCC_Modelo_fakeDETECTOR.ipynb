{
  "nbformat": 4,
  "nbformat_minor": 0,
  "metadata": {
    "colab": {
      "provenance": [],
      "authorship_tag": "ABX9TyNIhzEqL/tzlCPRyfF1uWac",
      "include_colab_link": true
    },
    "kernelspec": {
      "name": "python3",
      "display_name": "Python 3"
    },
    "language_info": {
      "name": "python"
    }
  },
  "cells": [
    {
      "cell_type": "markdown",
      "metadata": {
        "id": "view-in-github",
        "colab_type": "text"
      },
      "source": [
        "<a href=\"https://colab.research.google.com/github/Edvandro-Nogueira/TCC-Univesp/blob/main/TCC_Modelo_fakeDETECTOR.ipynb\" target=\"_parent\"><img src=\"https://colab.research.google.com/assets/colab-badge.svg\" alt=\"Open In Colab\"/></a>"
      ]
    },
    {
      "cell_type": "code",
      "execution_count": 45,
      "metadata": {
        "id": "iczs9vI57vTv",
        "colab": {
          "base_uri": "https://localhost:8080/"
        },
        "outputId": "9f5fcd7c-32f0-49f6-bc4b-45437cbb06fd"
      },
      "outputs": [
        {
          "output_type": "stream",
          "name": "stderr",
          "text": [
            "[nltk_data] Downloading package punkt to /root/nltk_data...\n",
            "[nltk_data]   Package punkt is already up-to-date!\n"
          ]
        }
      ],
      "source": [
        "#Importações\n",
        "import pandas as pd\n",
        "from sklearn.model_selection import train_test_split\n",
        "#from sklearn.feature_extraction.text import TfidfVectorizer\n",
        "#from sklearn.svm import SVC\n",
        "import pickle\n",
        "import nltk\n",
        "nltk.download('punkt')\n",
        "from nltk.tokenize import word_tokenize\n",
        "import matplotlib.pyplot as plt\n",
        "import re\n",
        "import numpy as np\n",
        "from sklearn.preprocessing import LabelEncoder\n",
        "from tensorflow.keras.preprocessing.text import Tokenizer\n",
        "from tensorflow.keras.preprocessing.sequence import pad_sequences\n",
        "from tensorflow.keras.models import Sequential\n",
        "from tensorflow.keras.layers import Embedding, Conv1D, GlobalMaxPooling1D, Dense, Dropout\n",
        "#from keras.preprocessing.sequence import pad_sequences\n",
        "from sklearn.metrics import classification_report, confusion_matrix, f1_score\n",
        "import seaborn as sns"
      ]
    },
    {
      "cell_type": "code",
      "source": [
        "#Versão do python\n",
        "import sys\n",
        "print(sys.version)"
      ],
      "metadata": {
        "colab": {
          "base_uri": "https://localhost:8080/"
        },
        "id": "i4Zl24hWO39W",
        "outputId": "db82824d-ae65-4f0f-97c2-9fad6869ccf5"
      },
      "execution_count": null,
      "outputs": [
        {
          "output_type": "stream",
          "name": "stdout",
          "text": [
            "3.10.12 (main, Jun 11 2023, 05:26:28) [GCC 11.4.0]\n"
          ]
        }
      ]
    },
    {
      "cell_type": "code",
      "source": [
        "%tensorflow_version 2.x\n",
        "import tensorflow as tf\n",
        "tf.__version__"
      ],
      "metadata": {
        "id": "JNJunOBNfWJq"
      },
      "execution_count": null,
      "outputs": []
    },
    {
      "cell_type": "code",
      "source": [
        "dados_noticias = pd.read_table('https://raw.githubusercontent.com/Edvandro-Nogueira/TCC-Univesp/main/dados_noticias.csv', sep=\";\")\n",
        "dados_noticias"
      ],
      "metadata": {
        "colab": {
          "base_uri": "https://localhost:8080/",
          "height": 424
        },
        "id": "mQqkCmNU8vuv",
        "outputId": "8b6bd53f-363b-4170-da98-b0443247d32b"
      },
      "execution_count": null,
      "outputs": [
        {
          "output_type": "execute_result",
          "data": {
            "text/plain": [
              "                                                noticias  classe\n",
              "0      katia abreu diz vai colocar expulsao moldura n...       0\n",
              "1      ray peita bolsonaro conservador fake entrevist...       0\n",
              "2      reinaldo azevedo desmascarado policia federal ...       0\n",
              "3      relatorio assustador bndes mostra dinheiro pub...       0\n",
              "4      radialista americano fala sobre pt vendem ilus...       0\n",
              "...                                                  ...     ...\n",
              "10753  Aug 26, 2020 — É falso que neurocientista brit...       0\n",
              "10754  19/08/2020 - 17:45 / Atualizado em 19/08/2020 ...       0\n",
              "10755  Jun 6, 2020 — No Reino Unido, 80% da população...       0\n",
              "10756  Estudo do pesquisador Karl Friston conclui que...       0\n",
              "10757  ... estudos sobre o COVID-19 concluiu que a ma...       0\n",
              "\n",
              "[10758 rows x 2 columns]"
            ],
            "text/html": [
              "\n",
              "  <div id=\"df-1a46965d-5d57-491d-a6b3-8718b83fda80\" class=\"colab-df-container\">\n",
              "    <div>\n",
              "<style scoped>\n",
              "    .dataframe tbody tr th:only-of-type {\n",
              "        vertical-align: middle;\n",
              "    }\n",
              "\n",
              "    .dataframe tbody tr th {\n",
              "        vertical-align: top;\n",
              "    }\n",
              "\n",
              "    .dataframe thead th {\n",
              "        text-align: right;\n",
              "    }\n",
              "</style>\n",
              "<table border=\"1\" class=\"dataframe\">\n",
              "  <thead>\n",
              "    <tr style=\"text-align: right;\">\n",
              "      <th></th>\n",
              "      <th>noticias</th>\n",
              "      <th>classe</th>\n",
              "    </tr>\n",
              "  </thead>\n",
              "  <tbody>\n",
              "    <tr>\n",
              "      <th>0</th>\n",
              "      <td>katia abreu diz vai colocar expulsao moldura n...</td>\n",
              "      <td>0</td>\n",
              "    </tr>\n",
              "    <tr>\n",
              "      <th>1</th>\n",
              "      <td>ray peita bolsonaro conservador fake entrevist...</td>\n",
              "      <td>0</td>\n",
              "    </tr>\n",
              "    <tr>\n",
              "      <th>2</th>\n",
              "      <td>reinaldo azevedo desmascarado policia federal ...</td>\n",
              "      <td>0</td>\n",
              "    </tr>\n",
              "    <tr>\n",
              "      <th>3</th>\n",
              "      <td>relatorio assustador bndes mostra dinheiro pub...</td>\n",
              "      <td>0</td>\n",
              "    </tr>\n",
              "    <tr>\n",
              "      <th>4</th>\n",
              "      <td>radialista americano fala sobre pt vendem ilus...</td>\n",
              "      <td>0</td>\n",
              "    </tr>\n",
              "    <tr>\n",
              "      <th>...</th>\n",
              "      <td>...</td>\n",
              "      <td>...</td>\n",
              "    </tr>\n",
              "    <tr>\n",
              "      <th>10753</th>\n",
              "      <td>Aug 26, 2020 — É falso que neurocientista brit...</td>\n",
              "      <td>0</td>\n",
              "    </tr>\n",
              "    <tr>\n",
              "      <th>10754</th>\n",
              "      <td>19/08/2020 - 17:45 / Atualizado em 19/08/2020 ...</td>\n",
              "      <td>0</td>\n",
              "    </tr>\n",
              "    <tr>\n",
              "      <th>10755</th>\n",
              "      <td>Jun 6, 2020 — No Reino Unido, 80% da população...</td>\n",
              "      <td>0</td>\n",
              "    </tr>\n",
              "    <tr>\n",
              "      <th>10756</th>\n",
              "      <td>Estudo do pesquisador Karl Friston conclui que...</td>\n",
              "      <td>0</td>\n",
              "    </tr>\n",
              "    <tr>\n",
              "      <th>10757</th>\n",
              "      <td>... estudos sobre o COVID-19 concluiu que a ma...</td>\n",
              "      <td>0</td>\n",
              "    </tr>\n",
              "  </tbody>\n",
              "</table>\n",
              "<p>10758 rows × 2 columns</p>\n",
              "</div>\n",
              "    <div class=\"colab-df-buttons\">\n",
              "\n",
              "  <div class=\"colab-df-container\">\n",
              "    <button class=\"colab-df-convert\" onclick=\"convertToInteractive('df-1a46965d-5d57-491d-a6b3-8718b83fda80')\"\n",
              "            title=\"Convert this dataframe to an interactive table.\"\n",
              "            style=\"display:none;\">\n",
              "\n",
              "  <svg xmlns=\"http://www.w3.org/2000/svg\" height=\"24px\" viewBox=\"0 -960 960 960\">\n",
              "    <path d=\"M120-120v-720h720v720H120Zm60-500h600v-160H180v160Zm220 220h160v-160H400v160Zm0 220h160v-160H400v160ZM180-400h160v-160H180v160Zm440 0h160v-160H620v160ZM180-180h160v-160H180v160Zm440 0h160v-160H620v160Z\"/>\n",
              "  </svg>\n",
              "    </button>\n",
              "\n",
              "  <style>\n",
              "    .colab-df-container {\n",
              "      display:flex;\n",
              "      gap: 12px;\n",
              "    }\n",
              "\n",
              "    .colab-df-convert {\n",
              "      background-color: #E8F0FE;\n",
              "      border: none;\n",
              "      border-radius: 50%;\n",
              "      cursor: pointer;\n",
              "      display: none;\n",
              "      fill: #1967D2;\n",
              "      height: 32px;\n",
              "      padding: 0 0 0 0;\n",
              "      width: 32px;\n",
              "    }\n",
              "\n",
              "    .colab-df-convert:hover {\n",
              "      background-color: #E2EBFA;\n",
              "      box-shadow: 0px 1px 2px rgba(60, 64, 67, 0.3), 0px 1px 3px 1px rgba(60, 64, 67, 0.15);\n",
              "      fill: #174EA6;\n",
              "    }\n",
              "\n",
              "    .colab-df-buttons div {\n",
              "      margin-bottom: 4px;\n",
              "    }\n",
              "\n",
              "    [theme=dark] .colab-df-convert {\n",
              "      background-color: #3B4455;\n",
              "      fill: #D2E3FC;\n",
              "    }\n",
              "\n",
              "    [theme=dark] .colab-df-convert:hover {\n",
              "      background-color: #434B5C;\n",
              "      box-shadow: 0px 1px 3px 1px rgba(0, 0, 0, 0.15);\n",
              "      filter: drop-shadow(0px 1px 2px rgba(0, 0, 0, 0.3));\n",
              "      fill: #FFFFFF;\n",
              "    }\n",
              "  </style>\n",
              "\n",
              "    <script>\n",
              "      const buttonEl =\n",
              "        document.querySelector('#df-1a46965d-5d57-491d-a6b3-8718b83fda80 button.colab-df-convert');\n",
              "      buttonEl.style.display =\n",
              "        google.colab.kernel.accessAllowed ? 'block' : 'none';\n",
              "\n",
              "      async function convertToInteractive(key) {\n",
              "        const element = document.querySelector('#df-1a46965d-5d57-491d-a6b3-8718b83fda80');\n",
              "        const dataTable =\n",
              "          await google.colab.kernel.invokeFunction('convertToInteractive',\n",
              "                                                    [key], {});\n",
              "        if (!dataTable) return;\n",
              "\n",
              "        const docLinkHtml = 'Like what you see? Visit the ' +\n",
              "          '<a target=\"_blank\" href=https://colab.research.google.com/notebooks/data_table.ipynb>data table notebook</a>'\n",
              "          + ' to learn more about interactive tables.';\n",
              "        element.innerHTML = '';\n",
              "        dataTable['output_type'] = 'display_data';\n",
              "        await google.colab.output.renderOutput(dataTable, element);\n",
              "        const docLink = document.createElement('div');\n",
              "        docLink.innerHTML = docLinkHtml;\n",
              "        element.appendChild(docLink);\n",
              "      }\n",
              "    </script>\n",
              "  </div>\n",
              "\n",
              "\n",
              "<div id=\"df-fb473ecc-30c7-40b5-8598-ef129d07f267\">\n",
              "  <button class=\"colab-df-quickchart\" onclick=\"quickchart('df-fb473ecc-30c7-40b5-8598-ef129d07f267')\"\n",
              "            title=\"Suggest charts.\"\n",
              "            style=\"display:none;\">\n",
              "\n",
              "<svg xmlns=\"http://www.w3.org/2000/svg\" height=\"24px\"viewBox=\"0 0 24 24\"\n",
              "     width=\"24px\">\n",
              "    <g>\n",
              "        <path d=\"M19 3H5c-1.1 0-2 .9-2 2v14c0 1.1.9 2 2 2h14c1.1 0 2-.9 2-2V5c0-1.1-.9-2-2-2zM9 17H7v-7h2v7zm4 0h-2V7h2v10zm4 0h-2v-4h2v4z\"/>\n",
              "    </g>\n",
              "</svg>\n",
              "  </button>\n",
              "\n",
              "<style>\n",
              "  .colab-df-quickchart {\n",
              "      --bg-color: #E8F0FE;\n",
              "      --fill-color: #1967D2;\n",
              "      --hover-bg-color: #E2EBFA;\n",
              "      --hover-fill-color: #174EA6;\n",
              "      --disabled-fill-color: #AAA;\n",
              "      --disabled-bg-color: #DDD;\n",
              "  }\n",
              "\n",
              "  [theme=dark] .colab-df-quickchart {\n",
              "      --bg-color: #3B4455;\n",
              "      --fill-color: #D2E3FC;\n",
              "      --hover-bg-color: #434B5C;\n",
              "      --hover-fill-color: #FFFFFF;\n",
              "      --disabled-bg-color: #3B4455;\n",
              "      --disabled-fill-color: #666;\n",
              "  }\n",
              "\n",
              "  .colab-df-quickchart {\n",
              "    background-color: var(--bg-color);\n",
              "    border: none;\n",
              "    border-radius: 50%;\n",
              "    cursor: pointer;\n",
              "    display: none;\n",
              "    fill: var(--fill-color);\n",
              "    height: 32px;\n",
              "    padding: 0;\n",
              "    width: 32px;\n",
              "  }\n",
              "\n",
              "  .colab-df-quickchart:hover {\n",
              "    background-color: var(--hover-bg-color);\n",
              "    box-shadow: 0 1px 2px rgba(60, 64, 67, 0.3), 0 1px 3px 1px rgba(60, 64, 67, 0.15);\n",
              "    fill: var(--button-hover-fill-color);\n",
              "  }\n",
              "\n",
              "  .colab-df-quickchart-complete:disabled,\n",
              "  .colab-df-quickchart-complete:disabled:hover {\n",
              "    background-color: var(--disabled-bg-color);\n",
              "    fill: var(--disabled-fill-color);\n",
              "    box-shadow: none;\n",
              "  }\n",
              "\n",
              "  .colab-df-spinner {\n",
              "    border: 2px solid var(--fill-color);\n",
              "    border-color: transparent;\n",
              "    border-bottom-color: var(--fill-color);\n",
              "    animation:\n",
              "      spin 1s steps(1) infinite;\n",
              "  }\n",
              "\n",
              "  @keyframes spin {\n",
              "    0% {\n",
              "      border-color: transparent;\n",
              "      border-bottom-color: var(--fill-color);\n",
              "      border-left-color: var(--fill-color);\n",
              "    }\n",
              "    20% {\n",
              "      border-color: transparent;\n",
              "      border-left-color: var(--fill-color);\n",
              "      border-top-color: var(--fill-color);\n",
              "    }\n",
              "    30% {\n",
              "      border-color: transparent;\n",
              "      border-left-color: var(--fill-color);\n",
              "      border-top-color: var(--fill-color);\n",
              "      border-right-color: var(--fill-color);\n",
              "    }\n",
              "    40% {\n",
              "      border-color: transparent;\n",
              "      border-right-color: var(--fill-color);\n",
              "      border-top-color: var(--fill-color);\n",
              "    }\n",
              "    60% {\n",
              "      border-color: transparent;\n",
              "      border-right-color: var(--fill-color);\n",
              "    }\n",
              "    80% {\n",
              "      border-color: transparent;\n",
              "      border-right-color: var(--fill-color);\n",
              "      border-bottom-color: var(--fill-color);\n",
              "    }\n",
              "    90% {\n",
              "      border-color: transparent;\n",
              "      border-bottom-color: var(--fill-color);\n",
              "    }\n",
              "  }\n",
              "</style>\n",
              "\n",
              "  <script>\n",
              "    async function quickchart(key) {\n",
              "      const quickchartButtonEl =\n",
              "        document.querySelector('#' + key + ' button');\n",
              "      quickchartButtonEl.disabled = true;  // To prevent multiple clicks.\n",
              "      quickchartButtonEl.classList.add('colab-df-spinner');\n",
              "      try {\n",
              "        const charts = await google.colab.kernel.invokeFunction(\n",
              "            'suggestCharts', [key], {});\n",
              "      } catch (error) {\n",
              "        console.error('Error during call to suggestCharts:', error);\n",
              "      }\n",
              "      quickchartButtonEl.classList.remove('colab-df-spinner');\n",
              "      quickchartButtonEl.classList.add('colab-df-quickchart-complete');\n",
              "    }\n",
              "    (() => {\n",
              "      let quickchartButtonEl =\n",
              "        document.querySelector('#df-fb473ecc-30c7-40b5-8598-ef129d07f267 button');\n",
              "      quickchartButtonEl.style.display =\n",
              "        google.colab.kernel.accessAllowed ? 'block' : 'none';\n",
              "    })();\n",
              "  </script>\n",
              "</div>\n",
              "    </div>\n",
              "  </div>\n"
            ]
          },
          "metadata": {},
          "execution_count": 3
        }
      ]
    },
    {
      "cell_type": "code",
      "source": [
        "#Certificamos que existem apenas 2 objetos\n",
        "dados_noticias['classe'].unique()"
      ],
      "metadata": {
        "colab": {
          "base_uri": "https://localhost:8080/"
        },
        "id": "Of-9L0WO9IzN",
        "outputId": "9f6cabfc-426a-4a24-ba85-4859b51448ef"
      },
      "execution_count": null,
      "outputs": [
        {
          "output_type": "execute_result",
          "data": {
            "text/plain": [
              "array([0, 1])"
            ]
          },
          "metadata": {},
          "execution_count": 4
        }
      ]
    },
    {
      "cell_type": "code",
      "source": [
        "#Contando quantos falsos e quantos verdadeiros o dataset possui\n",
        "contagem = dados_noticias['classe'].value_counts()\n",
        "print(contagem)"
      ],
      "metadata": {
        "colab": {
          "base_uri": "https://localhost:8080/"
        },
        "id": "adOSGfGD_JB3",
        "outputId": "4676ef85-6586-49e5-a44f-08c5885af404"
      },
      "execution_count": null,
      "outputs": [
        {
          "output_type": "stream",
          "name": "stdout",
          "text": [
            "0    6143\n",
            "1    4615\n",
            "Name: classe, dtype: int64\n"
          ]
        }
      ]
    },
    {
      "cell_type": "markdown",
      "source": [
        "###Separando os dados em treino, validação e teste."
      ],
      "metadata": {
        "id": "zg_iofIH_Y3y"
      }
    },
    {
      "cell_type": "code",
      "source": [
        "X = dados_noticias[\"noticias\"]\n",
        "y = dados_noticias[\"classe\"]\n",
        "\n",
        "# Etapa 1: Separar 90%-10% para teste final\n",
        "X_train_val, X_test, y_train_val, y_test = train_test_split(X, y, test_size=0.1, random_state=42, stratify=y)\n",
        "\n",
        "# Etapa 2: Separar 90% restantes em 80%-20% para treinamento e validação\n",
        "X_train, X_val, y_train, y_val = train_test_split(X_train_val, y_train_val, test_size=0.2, random_state=42, stratify=y_train_val)\n",
        "\n",
        "# Os dados de treinamento estão em X_train e y_train\n",
        "# Os dados de validação estão em X_val e y_val\n",
        "# Os dados de teste final estão em X_test e y_test"
      ],
      "metadata": {
        "id": "iJzWyHvq_JzM"
      },
      "execution_count": null,
      "outputs": []
    },
    {
      "cell_type": "markdown",
      "source": [
        "####Funções"
      ],
      "metadata": {
        "id": "TIAH_vw5V04k"
      }
    },
    {
      "cell_type": "code",
      "source": [
        "#Métricas do F1-score\n",
        "def f1_score_metrics(model, history):\n",
        "    train_f1_scores = [f1_score(y_train, (model.predict(train_sequences) > 0.5).astype(int)) for _ in range(len(history.history['accuracy']))]\n",
        "    val_f1_scores = [f1_score(y_val, (model.predict(val_sequences) > 0.5).astype(int)) for _ in range(len(history.history['accuracy']))]\n",
        "\n",
        "    return train_f1_scores, val_f1_scores\n",
        "\n",
        "#Gerar o gráfico com evolução das épocas\n",
        "def plot_progresso(modelo, history):\n",
        "    train_f1_scores, val_f1_scores = f1_score_metrics(modelo, history)\n",
        "\n",
        "    # Plotar progresso da acurácia e F1-score do modelo durante o treinamento e validação\n",
        "    plt.plot(history.history['accuracy'], label='Acurácia no treino')\n",
        "    plt.plot(history.history['val_accuracy'], label='Acurácia na validação')\n",
        "    plt.plot(train_f1_scores, label='F1-score no treino')\n",
        "    plt.plot(val_f1_scores, label='F1-score na validação')\n",
        "\n",
        "    # Exibir os valores de acurácia e F1-score em cada ponto do gráfico\n",
        "    for i, acc in enumerate(history.history['accuracy']):\n",
        "        plt.text(i, acc, f\"{acc:.4f}\", ha='center', va='bottom')\n",
        "        plt.text(i, train_f1_scores[i], f\"{train_f1_scores[i]:.4f}\", ha='center', va='bottom')\n",
        "        plt.text(i, history.history['val_accuracy'][i], f\"{history.history['val_accuracy'][i]:.4f}\", ha='center', va='bottom')\n",
        "        plt.text(i, val_f1_scores[i], f\"{val_f1_scores[i]:.4f}\", ha='center', va='bottom')\n",
        "\n",
        "    plt.title('Progresso da acurácia e F1-score do modelo durante o treinamento e validação')\n",
        "    plt.xlabel('Época')\n",
        "    plt.ylabel('Acurácia / F1-score')\n",
        "    plt.legend()\n",
        "    plt.show()\n",
        "\n",
        "#Plotar as métricas de avaliação\n",
        "def metrics(modelo):\n",
        "    predictions = modelo.predict(val_sequences)\n",
        "    rounded_predictions = np.round(predictions).astype(int)\n",
        "    report = classification_report(y_val, rounded_predictions)\n",
        "\n",
        "    return report\n",
        "\n",
        "#Plotar a matriz de confusão\n",
        "def matriz_confusão(modelo):\n",
        "    y_pred_prob = modelo.predict(val_sequences)\n",
        "    y_pred = np.round(y_pred_prob).astype(int)\n",
        "    cm = confusion_matrix(y_val, y_pred)\n",
        "\n",
        "    plt.figure(figsize=(8, 8))\n",
        "    sns.heatmap(cm, annot=True, fmt='d', cmap='Blues', cbar=False,\n",
        "                xticklabels=['Real', 'Falso'],\n",
        "                yticklabels=['Real', 'Falso'])\n",
        "    plt.xlabel('Previsão')\n",
        "    plt.ylabel('Verdadeiro')\n",
        "    plt.title('Matriz de Confusão')\n",
        "    plt.show()\n",
        "\n",
        "#Resultados em um dataframe\n",
        "def results_toDataframe(history, modelo):\n",
        "    train_f1_scores, val_f1_scores = f1_score_metrics(modelo, history)\n",
        "\n",
        "    results = []\n",
        "\n",
        "    for i, acc in enumerate(history.history['accuracy']):\n",
        "        result = {\n",
        "            'Época': i + 1,\n",
        "            #'Acurácia no Treino': acc,\n",
        "            #'F1-score no Treino': train_f1_scores[i],\n",
        "            'Acurácia na Validação': history.history['val_accuracy'][i],\n",
        "            'F1-score na Validação': val_f1_scores[i]\n",
        "        }\n",
        "        results.append(result)\n",
        "\n",
        "    df_results = pd.DataFrame(results)\n",
        "\n",
        "    return df_results"
      ],
      "metadata": {
        "id": "UsH78u1CV3ov"
      },
      "execution_count": 59,
      "outputs": []
    },
    {
      "cell_type": "markdown",
      "source": [
        "###Criando o modelo novo"
      ],
      "metadata": {
        "id": "i2T62DOg_qLk"
      }
    },
    {
      "cell_type": "markdown",
      "source": [
        "###Modelo CNN - fakeDETECTOR"
      ],
      "metadata": {
        "id": "xCa67ax6ideT"
      }
    },
    {
      "cell_type": "code",
      "source": [
        "train_texts = X_train.astype(str)\n",
        "val_texts = X_val.astype(str)\n",
        "test_texts = X_test.astype(str)\n",
        "\n",
        "max_sequence_length = 1000\n",
        "\n",
        "tokenizer = Tokenizer()\n",
        "tokenizer.fit_on_texts(train_texts)\n",
        "\n",
        "train_sequences = tokenizer.texts_to_sequences(train_texts)\n",
        "train_sequences = pad_sequences(train_sequences, maxlen=max_sequence_length)\n",
        "\n",
        "val_sequences = tokenizer.texts_to_sequences(val_texts)\n",
        "val_sequences = pad_sequences(val_sequences, maxlen=max_sequence_length)\n",
        "\n",
        "test_sequences = tokenizer.texts_to_sequences(test_texts)\n",
        "test_sequences = pad_sequences(test_sequences, maxlen=max_sequence_length)\n",
        "\n",
        "vocab_size = len(tokenizer.word_index) + 1\n",
        "embedding_dim = 200\n",
        "\n",
        "fakeDETECTOR = Sequential()\n",
        "fakeDETECTOR.add(Embedding(vocab_size, embedding_dim, input_length=max_sequence_length))\n",
        "fakeDETECTOR.add(Conv1D(256, 5, activation='relu'))\n",
        "fakeDETECTOR.add(GlobalMaxPooling1D())\n",
        "fakeDETECTOR.add(Dense(256, activation='relu'))\n",
        "#fakeDETECTOR.add(Dense(128, activation='relu'))\n",
        "fakeDETECTOR.add(Dense(1, activation='sigmoid'))\n",
        "\n",
        "fakeDETECTOR.compile(optimizer='adam', loss='binary_crossentropy', metrics=['accuracy'])\n",
        "\n",
        "history = fakeDETECTOR.fit(train_sequences, y_train, epochs=10, batch_size=32, validation_data=(val_sequences, y_val))\n",
        "\n",
        "loss, accuracy = fakeDETECTOR.evaluate(val_sequences, y_val)\n",
        "print(\"Acurácia: {:.2f}%\".format(accuracy * 100))"
      ],
      "metadata": {
        "colab": {
          "base_uri": "https://localhost:8080/"
        },
        "id": "sULzPPUnoqiK",
        "outputId": "ed0718de-39e1-4718-9191-e01fd1af728a"
      },
      "execution_count": 57,
      "outputs": [
        {
          "output_type": "stream",
          "name": "stdout",
          "text": [
            "Epoch 1/10\n",
            "243/243 [==============================] - 444s 2s/step - loss: 0.3603 - accuracy: 0.8454 - val_loss: 0.3498 - val_accuracy: 0.8472\n",
            "Epoch 2/10\n",
            "243/243 [==============================] - 410s 2s/step - loss: 0.1148 - accuracy: 0.9556 - val_loss: 0.2171 - val_accuracy: 0.9117\n",
            "Epoch 3/10\n",
            "243/243 [==============================] - 400s 2s/step - loss: 0.0173 - accuracy: 0.9943 - val_loss: 0.2819 - val_accuracy: 0.9091\n",
            "Epoch 4/10\n",
            "243/243 [==============================] - 371s 2s/step - loss: 0.0068 - accuracy: 0.9975 - val_loss: 0.2799 - val_accuracy: 0.9138\n",
            "Epoch 5/10\n",
            "243/243 [==============================] - 377s 2s/step - loss: 0.0061 - accuracy: 0.9972 - val_loss: 0.2846 - val_accuracy: 0.9153\n",
            "Epoch 6/10\n",
            "243/243 [==============================] - 376s 2s/step - loss: 0.0066 - accuracy: 0.9968 - val_loss: 0.2818 - val_accuracy: 0.9148\n",
            "Epoch 7/10\n",
            "243/243 [==============================] - 432s 2s/step - loss: 0.0056 - accuracy: 0.9966 - val_loss: 0.2916 - val_accuracy: 0.9133\n",
            "Epoch 8/10\n",
            "243/243 [==============================] - 356s 1s/step - loss: 0.0053 - accuracy: 0.9969 - val_loss: 0.3113 - val_accuracy: 0.9143\n",
            "Epoch 9/10\n",
            "243/243 [==============================] - 371s 2s/step - loss: 0.0049 - accuracy: 0.9966 - val_loss: 0.3488 - val_accuracy: 0.9153\n",
            "Epoch 10/10\n",
            "243/243 [==============================] - 359s 1s/step - loss: 0.0050 - accuracy: 0.9970 - val_loss: 0.3637 - val_accuracy: 0.9133\n",
            "61/61 [==============================] - 18s 297ms/step - loss: 0.3637 - accuracy: 0.9133\n",
            "Acurácia: 91.33%\n"
          ]
        }
      ]
    },
    {
      "cell_type": "code",
      "source": [
        "#Métrica de avaliação do modelo\n",
        "print(metrics(fakeDETECTOR))\n",
        "\n",
        "# Plotar  matriz de confusão\n",
        "matriz_confusão(fakeDETECTOR)"
      ],
      "metadata": {
        "colab": {
          "base_uri": "https://localhost:8080/",
          "height": 909
        },
        "id": "kjDGWmM2kzvS",
        "outputId": "bedeff89-22e8-429f-b22c-4fee632f3921"
      },
      "execution_count": 66,
      "outputs": [
        {
          "output_type": "stream",
          "name": "stdout",
          "text": [
            "61/61 [==============================] - 21s 336ms/step\n",
            "              precision    recall  f1-score   support\n",
            "\n",
            "           0       0.92      0.93      0.92      1106\n",
            "           1       0.90      0.90      0.90       831\n",
            "\n",
            "    accuracy                           0.91      1937\n",
            "   macro avg       0.91      0.91      0.91      1937\n",
            "weighted avg       0.91      0.91      0.91      1937\n",
            "\n",
            "61/61 [==============================] - 19s 308ms/step\n"
          ]
        },
        {
          "output_type": "display_data",
          "data": {
            "text/plain": [
              "<Figure size 800x800 with 1 Axes>"
            ],
            "image/png": "[encoded data removed]"
          },
          "metadata": {}
        }
      ]
    },
    {
      "cell_type": "code",
      "source": [
        "# Plotar as metricas em cada época\n",
        "plot_progresso(fakeDETECTOR, history)"
      ],
      "metadata": {
        "colab": {
          "base_uri": "https://localhost:8080/"
        },
        "id": "_2pFcooMTXxF",
        "outputId": "a33e5063-6336-4d4c-c94d-6d5e376ea8ef"
      },
      "execution_count": null,
      "outputs": [
        {
          "output_type": "stream",
          "name": "stdout",
          "text": [
            "243/243 [==============================] - 80s 327ms/step\n",
            "243/243 [==============================] - 81s 332ms/step\n",
            "243/243 [==============================] - 85s 350ms/step\n",
            "243/243 [==============================] - 74s 304ms/step\n",
            "243/243 [==============================] - 76s 311ms/step\n",
            "243/243 [==============================] - 78s 321ms/step\n",
            "243/243 [==============================] - 73s 301ms/step\n",
            "243/243 [==============================] - 74s 304ms/step\n",
            "243/243 [==============================] - 81s 333ms/step\n",
            "243/243 [==============================] - 74s 304ms/step\n",
            "61/61 [==============================] - 19s 308ms/step\n",
            "61/61 [==============================] - 18s 293ms/step\n",
            "61/61 [==============================] - 19s 317ms/step\n",
            "61/61 [==============================] - 18s 291ms/step\n",
            "21/61 [=========>....................] - ETA: 13s"
          ]
        }
      ]
    },
    {
      "cell_type": "code",
      "source": [
        "#Resultado em um dataframe\n",
        "results_toDataframe(history, fakeDETECTOR)"
      ],
      "metadata": {
        "id": "dFpuDh6pkCR_"
      },
      "execution_count": null,
      "outputs": []
    },
    {
      "cell_type": "code",
      "source": [
        "#Resultado em um dataframe\n",
        "results = []\n",
        "\n",
        "for i, acc in enumerate(history.history['accuracy']):\n",
        "    result = {\n",
        "        'Época': i + 1,\n",
        "        #'Acurácia no Treino': acc,\n",
        "        #'F1-score no Treino': train_f1_scores[i],\n",
        "        'Acurácia na Validação': history.history['val_accuracy'][i],\n",
        "        'F1-score na Validação': val_f1_scores[i]\n",
        "    }\n",
        "    results.append(result)\n",
        "\n",
        "df_results = pd.DataFrame(results)\n",
        "df_results"
      ],
      "metadata": {
        "id": "wgeoHe5RSd_a"
      },
      "execution_count": null,
      "outputs": []
    },
    {
      "cell_type": "code",
      "source": [
        "from tensorflow.keras.optimizers import Nadam\n",
        "\n",
        "train_texts = X_train.astype(str)\n",
        "val_texts = X_val.astype(str)\n",
        "test_texts = X_test.astype(str)\n",
        "\n",
        "max_sequence_length = 1000\n",
        "\n",
        "tokenizer = Tokenizer()\n",
        "tokenizer.fit_on_texts(train_texts)\n",
        "\n",
        "train_sequences = tokenizer.texts_to_sequences(train_texts)\n",
        "train_sequences = pad_sequences(train_sequences, maxlen=max_sequence_length)\n",
        "\n",
        "val_sequences = tokenizer.texts_to_sequences(val_texts)\n",
        "val_sequences = pad_sequences(val_sequences, maxlen=max_sequence_length)\n",
        "\n",
        "test_sequences = tokenizer.texts_to_sequences(test_texts)\n",
        "test_sequences = pad_sequences(test_sequences, maxlen=max_sequence_length)\n",
        "\n",
        "vocab_size = len(tokenizer.word_index) + 1\n",
        "embedding_dim = 200\n",
        "\n",
        "fakeDETECTOR2 = Sequential()\n",
        "fakeDETECTOR2.add(Embedding(vocab_size, embedding_dim, input_length=max_sequence_length))\n",
        "fakeDETECTOR2.add(Conv1D(256, 5, activation='relu'))\n",
        "fakeDETECTOR2.add(GlobalMaxPooling1D())\n",
        "fakeDETECTOR2.add(Dense(256, activation='relu'))\n",
        "#fakeDETECTOR.add(Dense(128, activation='relu'))\n",
        "fakeDETECTOR2.add(Dense(1, activation='sigmoid'))\n",
        "\n",
        "fakeDETECTOR2.compile(optimizer='Nadam', loss='binary_crossentropy', metrics=['accuracy'])\n",
        "\n",
        "history2 = fakeDETECTOR2.fit(train_sequences, y_train, epochs=4, batch_size=32, validation_data=(val_sequences, y_val))\n",
        "\n",
        "loss, accuracy = fakeDETECTOR2.evaluate(val_sequences, y_val)\n",
        "print(\"Acurácia: {:.2f}%\".format(accuracy * 100))"
      ],
      "metadata": {
        "colab": {
          "base_uri": "https://localhost:8080/",
          "height": 261
        },
        "id": "pgt0icOOsGyc",
        "outputId": "51de4a6c-9624-4939-f3d6-5f8979f3229d"
      },
      "execution_count": null,
      "outputs": [
        {
          "output_type": "stream",
          "name": "stdout",
          "text": [
            "Epoch 1/4\n",
            "243/243 [==============================] - 423s 2s/step - loss: 0.3612 - accuracy: 0.8425 - val_loss: 0.5645 - val_accuracy: 0.7904\n",
            "Epoch 2/4\n",
            "243/243 [==============================] - 452s 2s/step - loss: 0.1056 - accuracy: 0.9611 - val_loss: 0.2438 - val_accuracy: 0.9045\n",
            "Epoch 3/4\n",
            "243/243 [==============================] - 398s 2s/step - loss: 0.0164 - accuracy: 0.9952 - val_loss: 0.2787 - val_accuracy: 0.9097\n",
            "Epoch 4/4\n",
            "243/243 [==============================] - 398s 2s/step - loss: 0.0073 - accuracy: 0.9966 - val_loss: 0.3062 - val_accuracy: 0.9086\n",
            "61/61 [==============================] - 20s 328ms/step - loss: 0.3062 - accuracy: 0.9086\n",
            "Acurácia: 90.86%\n"
          ]
        },
        {
          "output_type": "execute_result",
          "data": {
            "text/plain": [
              "'\\nEpoch 1/4\\n243/243 [==============================] - 346s 1s/step - loss: 0.3577 - accuracy: 0.8439 - val_loss: 0.6333 - val_accuracy: 0.7543\\nEpoch 2/4\\n243/243 [==============================] - 341s 1s/step - loss: 0.1037 - accuracy: 0.9623 - val_loss: 0.2826 - val_accuracy: 0.9019\\nEpoch 3/4\\n243/243 [==============================] - 345s 1s/step - loss: 0.0159 - accuracy: 0.9948 - val_loss: 0.2591 - val_accuracy: 0.9117\\nEpoch 4/4\\n243/243 [==============================] - 342s 1s/step - loss: 0.0071 - accuracy: 0.9966 - val_loss: 0.2688 - val_accuracy: 0.9158\\n61/61 [==============================] - 18s 294ms/step - loss: 0.2688 - accuracy: 0.9158\\nAcurácia: 91.58%\\n'"
            ],
            "application/vnd.google.colaboratory.intrinsic+json": {
              "type": "string"
            }
          },
          "metadata": {},
          "execution_count": 8
        }
      ]
    },
    {
      "cell_type": "code",
      "source": [
        "#Métrica de avaliação do modelo\n",
        "predictions2 = fakeDETECTOR2.predict(val_sequences)\n",
        "rounded_predictions2 = np.round(predictions2).astype(int)\n",
        "\n",
        "report = classification_report(y_val, rounded_predictions2)\n",
        "print(report)"
      ],
      "metadata": {
        "colab": {
          "base_uri": "https://localhost:8080/"
        },
        "id": "YgjbIMDptLnc",
        "outputId": "c6dad619-b49f-4e13-f582-0d7ac92f5c0b"
      },
      "execution_count": null,
      "outputs": [
        {
          "output_type": "stream",
          "name": "stdout",
          "text": [
            "61/61 [==============================] - 20s 332ms/step\n",
            "              precision    recall  f1-score   support\n",
            "\n",
            "           0       0.90      0.94      0.92      1106\n",
            "           1       0.92      0.86      0.89       831\n",
            "\n",
            "    accuracy                           0.91      1937\n",
            "   macro avg       0.91      0.90      0.91      1937\n",
            "weighted avg       0.91      0.91      0.91      1937\n",
            "\n"
          ]
        }
      ]
    },
    {
      "cell_type": "code",
      "source": [
        "# Fazer previsões de probabilidades no conjunto de validação\n",
        "y_pred_prob = fakeDETECTOR2.predict(val_sequences)\n",
        "\n",
        "# Arredondar as probabilidades para obter as previsões binárias (0 ou 1)\n",
        "y_pred = np.round(y_pred_prob).astype(int)\n",
        "\n",
        "# Calcular a matriz de confusão\n",
        "cm = confusion_matrix(y_val, y_pred)\n",
        "\n",
        "# Plotar a matriz de confusão usando um heatmap\n",
        "plt.figure(figsize=(8, 8))\n",
        "sns.heatmap(cm, annot=True, fmt='d', cmap='Blues', cbar=False,\n",
        "            xticklabels=['Real', 'Falso'],\n",
        "            yticklabels=['Real', 'Falso'])\n",
        "plt.xlabel('Previsão')\n",
        "plt.ylabel('Verdadeiro')\n",
        "plt.title('Matriz de Confusão')\n",
        "plt.show()"
      ],
      "metadata": {
        "colab": {
          "base_uri": "https://localhost:8080/",
          "height": 735
        },
        "id": "9brD8wieuihB",
        "outputId": "185261f8-ad6c-4c07-aac1-3b3e7008a368"
      },
      "execution_count": null,
      "outputs": [
        {
          "output_type": "stream",
          "name": "stdout",
          "text": [
            "61/61 [==============================] - 20s 327ms/step\n"
          ]
        },
        {
          "output_type": "display_data",
          "data": {
            "text/plain": [
              "<Figure size 800x800 with 1 Axes>"
            ],
            "image/png": "[encoded data removed]"
          },
          "metadata": {}
        }
      ]
    },
    {
      "cell_type": "code",
      "source": [
        "# Calcular a métrica F1-score para o treinamento e validação em cada época\n",
        "train_f1_scores = [f1_score(y_train, (fakeDETECTOR2.predict(train_sequences) > 0.5).astype(int)) for _ in range(len(history2.history['accuracy']))]\n",
        "val_f1_scores = [f1_score(y_val, (fakeDETECTOR2.predict(val_sequences) > 0.5).astype(int)) for _ in range(len(history2.history['accuracy']))]\n",
        "\n",
        "# Plotar progresso da acurácia e F1-score do modelo durante o treinamento e validação\n",
        "plt.plot(history2.history['accuracy'], label='Acurácia no treino')\n",
        "plt.plot(history2.history['val_accuracy'], label='Acurácia na validação')\n",
        "plt.plot(train_f1_scores, label='F1-score no treino')\n",
        "plt.plot(val_f1_scores, label='F1-score na validação')\n",
        "\n",
        "# Exibir os valores de acurácia e F1-score em cada ponto do gráfico\n",
        "for i, acc in enumerate(history2.history['accuracy']):\n",
        "    plt.text(i, acc, f\"{acc:.4f}\", ha='center', va='bottom')\n",
        "    plt.text(i, train_f1_scores[i], f\"{train_f1_scores[i]:.4f}\", ha='center', va='bottom')\n",
        "    plt.text(i, history2.history['val_accuracy'][i], f\"{history2.history['val_accuracy'][i]:.4f}\", ha='center', va='bottom')\n",
        "    plt.text(i, val_f1_scores[i], f\"{val_f1_scores[i]:.4f}\", ha='center', va='bottom')\n",
        "\n",
        "plt.title('Progresso da acurácia e F1-score do modelo durante o treinamento e validação')\n",
        "plt.xlabel('Época')\n",
        "plt.ylabel('Acurácia / F1-score')\n",
        "plt.legend()\n",
        "plt.show()"
      ],
      "metadata": {
        "id": "CD6AgDXJTvNQ"
      },
      "execution_count": null,
      "outputs": []
    },
    {
      "cell_type": "markdown",
      "source": [
        "####Outros testes e anotações"
      ],
      "metadata": {
        "id": "Uz1W9SU4hVRv"
      }
    },
    {
      "cell_type": "code",
      "source": [
        "from tensorflow.keras.optimizers import Adagrad\n",
        "\n",
        "fakeDETECTOR = Sequential()\n",
        "fakeDETECTOR.add(Embedding(vocab_size, embedding_dim, input_length=max_sequence_length))\n",
        "fakeDETECTOR.add(Conv1D(256, 5, activation='relu'))\n",
        "fakeDETECTOR.add(GlobalMaxPooling1D())\n",
        "fakeDETECTOR.add(Dense(256, activation='relu'))\n",
        "fakeDETECTOR.add(Dense(1, activation='sigmoid'))\n",
        "\n",
        "fakeDETECTOR.compile(optimizer=Adagrad(), loss='binary_crossentropy', metrics=['accuracy'])\n",
        "fakeDETECTOR.fit(train_sequences, y_train, epochs=4, batch_size=32, validation_data=(val_sequences, y_val))"
      ],
      "metadata": {
        "id": "U6w6zWGjq-Yf",
        "colab": {
          "base_uri": "https://localhost:8080/"
        },
        "outputId": "2669214b-30d7-49fd-8217-232d6302dff7"
      },
      "execution_count": null,
      "outputs": [
        {
          "output_type": "stream",
          "name": "stdout",
          "text": [
            "Epoch 1/4\n",
            "243/243 [==============================] - 264s 1s/step - loss: 0.6892 - accuracy: 0.5654 - val_loss: 0.6861 - val_accuracy: 0.5710\n",
            "Epoch 2/4\n",
            "243/243 [==============================] - 257s 1s/step - loss: 0.6839 - accuracy: 0.5711 - val_loss: 0.6814 - val_accuracy: 0.5710\n",
            "Epoch 3/4\n",
            "243/243 [==============================] - 258s 1s/step - loss: 0.6796 - accuracy: 0.5711 - val_loss: 0.6773 - val_accuracy: 0.5710\n",
            "Epoch 4/4\n",
            "243/243 [==============================] - 257s 1s/step - loss: 0.6757 - accuracy: 0.5711 - val_loss: 0.6733 - val_accuracy: 0.5710\n"
          ]
        },
        {
          "output_type": "execute_result",
          "data": {
            "text/plain": [
              "<keras.src.callbacks.History at 0x791a65ee0c10>"
            ]
          },
          "metadata": {},
          "execution_count": 11
        }
      ]
    },
    {
      "cell_type": "code",
      "source": [
        "from tensorflow.keras.optimizers import Adamax\n",
        "\n",
        "fakeDETECTOR = Sequential()\n",
        "fakeDETECTOR.add(Embedding(vocab_size, embedding_dim, input_length=max_sequence_length))\n",
        "fakeDETECTOR.add(Conv1D(256, 5, activation='relu'))\n",
        "fakeDETECTOR.add(GlobalMaxPooling1D())\n",
        "fakeDETECTOR.add(Dense(256, activation='relu'))\n",
        "fakeDETECTOR.add(Dense(1, activation='sigmoid'))\n",
        "\n",
        "fakeDETECTOR.compile(optimizer=Adamax(), loss='binary_crossentropy', metrics=['accuracy'])\n",
        "fakeDETECTOR.fit(train_sequences, y_train, epochs=4, batch_size=32, validation_data=(val_sequences, y_val))"
      ],
      "metadata": {
        "colab": {
          "base_uri": "https://localhost:8080/"
        },
        "id": "je2GcvAcKvpi",
        "outputId": "6f474ec4-988c-47b8-ab0b-5ee839ff92b9"
      },
      "execution_count": null,
      "outputs": [
        {
          "output_type": "stream",
          "name": "stdout",
          "text": [
            "Epoch 1/4\n",
            "243/243 [==============================] - 326s 1s/step - loss: 0.4573 - accuracy: 0.8119 - val_loss: 0.3234 - val_accuracy: 0.8601\n",
            "Epoch 2/4\n",
            "243/243 [==============================] - 322s 1s/step - loss: 0.2527 - accuracy: 0.9001 - val_loss: 0.2705 - val_accuracy: 0.8818\n",
            "Epoch 3/4\n",
            "243/243 [==============================] - 342s 1s/step - loss: 0.1506 - accuracy: 0.9500 - val_loss: 0.2563 - val_accuracy: 0.8931\n",
            "Epoch 4/4\n",
            "243/243 [==============================] - 320s 1s/step - loss: 0.0696 - accuracy: 0.9824 - val_loss: 0.2367 - val_accuracy: 0.9050\n"
          ]
        },
        {
          "output_type": "execute_result",
          "data": {
            "text/plain": [
              "<keras.src.callbacks.History at 0x791a66f70250>"
            ]
          },
          "metadata": {},
          "execution_count": 12
        }
      ]
    },
    {
      "cell_type": "code",
      "source": [
        "from tensorflow.keras.optimizers import Nadam\n",
        "\n",
        "fakeDETECTOR = Sequential()\n",
        "fakeDETECTOR.add(Embedding(vocab_size, embedding_dim, input_length=max_sequence_length))\n",
        "fakeDETECTOR.add(Conv1D(256, 5, activation='relu'))\n",
        "fakeDETECTOR.add(GlobalMaxPooling1D())\n",
        "fakeDETECTOR.add(Dense(256, activation='relu'))\n",
        "fakeDETECTOR.add(Dense(1, activation='sigmoid'))\n",
        "\n",
        "fakeDETECTOR.compile(optimizer=Nadam(), loss='binary_crossentropy', metrics=['accuracy'])\n",
        "fakeDETECTOR.fit(train_sequences, y_train, epochs=4, batch_size=32, validation_data=(val_sequences, y_val))"
      ],
      "metadata": {
        "colab": {
          "base_uri": "https://localhost:8080/"
        },
        "id": "NNueZBdpK0ly",
        "outputId": "95c00a60-277e-40ea-c597-3343e7f3617b"
      },
      "execution_count": null,
      "outputs": [
        {
          "output_type": "stream",
          "name": "stdout",
          "text": [
            "Epoch 1/4\n",
            "243/243 [==============================] - 330s 1s/step - loss: 0.3534 - accuracy: 0.8445 - val_loss: 0.2381 - val_accuracy: 0.8942\n",
            "Epoch 2/4\n",
            "243/243 [==============================] - 329s 1s/step - loss: 0.0829 - accuracy: 0.9721 - val_loss: 0.2365 - val_accuracy: 0.9102\n",
            "Epoch 3/4\n",
            "243/243 [==============================] - 325s 1s/step - loss: 0.0110 - accuracy: 0.9965 - val_loss: 0.2912 - val_accuracy: 0.8931\n",
            "Epoch 4/4\n",
            "243/243 [==============================] - 324s 1s/step - loss: 0.0074 - accuracy: 0.9964 - val_loss: 0.2946 - val_accuracy: 0.8978\n"
          ]
        },
        {
          "output_type": "execute_result",
          "data": {
            "text/plain": [
              "<keras.src.callbacks.History at 0x791a65e0ce20>"
            ]
          },
          "metadata": {},
          "execution_count": 13
        }
      ]
    },
    {
      "cell_type": "code",
      "source": [
        "from tensorflow.keras.optimizers import Nadam\n",
        "\n",
        "fakeDETECTOR = Sequential()\n",
        "fakeDETECTOR.add(Embedding(vocab_size, embedding_dim, input_length=max_sequence_length))\n",
        "fakeDETECTOR.add(Conv1D(128, 5, activation='relu'))\n",
        "fakeDETECTOR.add(GlobalMaxPooling1D())\n",
        "fakeDETECTOR.add(Dense(128, activation='relu'))\n",
        "fakeDETECTOR.add(Dense(1, activation='sigmoid'))\n",
        "\n",
        "fakeDETECTOR.compile(optimizer=Nadam(), loss='binary_crossentropy', metrics=['accuracy'])\n",
        "fakeDETECTOR.fit(train_sequences, y_train, epochs=2, batch_size=32, validation_data=(val_sequences, y_val))\n",
        "\n",
        "loss, accuracy = fakeDETECTOR.evaluate(val_sequences, y_val)\n",
        "print(\"Acurácia: {:.2f}%\".format(accuracy * 100))"
      ],
      "metadata": {
        "colab": {
          "base_uri": "https://localhost:8080/"
        },
        "id": "W319jIYjZjzy",
        "outputId": "5d5e5445-db9b-457f-c69a-801bcc90438d"
      },
      "execution_count": null,
      "outputs": [
        {
          "output_type": "stream",
          "name": "stdout",
          "text": [
            "Epoch 1/2\n",
            "243/243 [==============================] - 231s 941ms/step - loss: 0.3749 - accuracy: 0.8323 - val_loss: 0.2425 - val_accuracy: 0.8942\n",
            "Epoch 2/2\n",
            "243/243 [==============================] - 229s 943ms/step - loss: 0.0943 - accuracy: 0.9684 - val_loss: 0.2264 - val_accuracy: 0.9091\n",
            "61/61 [==============================] - 10s 170ms/step - loss: 0.2264 - accuracy: 0.9091\n",
            "Acurácia: 90.91%\n"
          ]
        }
      ]
    },
    {
      "cell_type": "code",
      "source": [
        "#Apenas testes - deletar no final\n",
        "train_texts = X_train.astype(str)\n",
        "val_texts = X_val.astype(str)\n",
        "test_texts = X_test.astype(str)\n",
        "\n",
        "max_sequence_length = 200\n",
        "\n",
        "tokenizer = Tokenizer()\n",
        "tokenizer.fit_on_texts(train_texts)\n",
        "\n",
        "train_sequences = tokenizer.texts_to_sequences(train_texts)\n",
        "train_sequences = pad_sequences(train_sequences, maxlen=max_sequence_length)\n",
        "\n",
        "val_sequences = tokenizer.texts_to_sequences(val_texts)\n",
        "val_sequences = pad_sequences(val_sequences, maxlen=max_sequence_length)\n",
        "\n",
        "test_sequences = tokenizer.texts_to_sequences(test_texts)\n",
        "test_sequences = pad_sequences(test_sequences, maxlen=max_sequence_length)\n",
        "\n",
        "vocab_size = len(tokenizer.word_index) + 1\n",
        "embedding_dim = 100\n",
        "\n",
        "fakeDETECTOR3 = Sequential()\n",
        "fakeDETECTOR3.add(Embedding(vocab_size, embedding_dim, input_length=max_sequence_length))\n",
        "fakeDETECTOR3.add(Conv1D(128, 3, activation='relu'))\n",
        "fakeDETECTOR3.add(GlobalMaxPooling1D())\n",
        "fakeDETECTOR3.add(Dense(128, activation='relu'))\n",
        "fakeDETECTOR3.add(Dense(128, activation='relu'))\n",
        "fakeDETECTOR3.add(Dense(1, activation='sigmoid'))\n",
        "\n",
        "fakeDETECTOR3.compile(optimizer='adam', loss='binary_crossentropy', metrics=['accuracy'])\n",
        "\n",
        "history3 = fakeDETECTOR3.fit(train_sequences, y_train, epochs=10, batch_size=32, validation_data=(val_sequences, y_val))\n",
        "\n",
        "loss, accuracy = fakeDETECTOR3.evaluate(val_sequences, y_val)\n",
        "print(\"Acurácia: {:.2f}%\".format(accuracy * 100))"
      ],
      "metadata": {
        "colab": {
          "base_uri": "https://localhost:8080/"
        },
        "id": "Pe7gRU8Xt-wD",
        "outputId": "bf71c392-04b2-42c4-a4d6-e58e7385b776"
      },
      "execution_count": 51,
      "outputs": [
        {
          "output_type": "stream",
          "name": "stdout",
          "text": [
            "Epoch 1/10\n",
            "243/243 [==============================] - 41s 163ms/step - loss: 0.3769 - accuracy: 0.8378 - val_loss: 0.2961 - val_accuracy: 0.8751\n",
            "Epoch 2/10\n",
            "243/243 [==============================] - 40s 163ms/step - loss: 0.1439 - accuracy: 0.9453 - val_loss: 0.2695 - val_accuracy: 0.9086\n",
            "Epoch 3/10\n",
            "243/243 [==============================] - 41s 167ms/step - loss: 0.0144 - accuracy: 0.9951 - val_loss: 0.3349 - val_accuracy: 0.9060\n",
            "Epoch 4/10\n",
            "243/243 [==============================] - 40s 163ms/step - loss: 0.0062 - accuracy: 0.9978 - val_loss: 0.3351 - val_accuracy: 0.8983\n",
            "Epoch 5/10\n",
            "243/243 [==============================] - 41s 169ms/step - loss: 0.0057 - accuracy: 0.9972 - val_loss: 0.3499 - val_accuracy: 0.9040\n",
            "Epoch 6/10\n",
            "243/243 [==============================] - 39s 159ms/step - loss: 0.0057 - accuracy: 0.9968 - val_loss: 0.3662 - val_accuracy: 0.8978\n",
            "Epoch 7/10\n",
            "243/243 [==============================] - 39s 162ms/step - loss: 0.0063 - accuracy: 0.9970 - val_loss: 0.3982 - val_accuracy: 0.9055\n",
            "Epoch 8/10\n",
            "243/243 [==============================] - 40s 163ms/step - loss: 0.0065 - accuracy: 0.9966 - val_loss: 0.3686 - val_accuracy: 0.9066\n",
            "Epoch 9/10\n",
            "243/243 [==============================] - 39s 159ms/step - loss: 0.0070 - accuracy: 0.9970 - val_loss: 0.3505 - val_accuracy: 0.9066\n",
            "Epoch 10/10\n",
            "243/243 [==============================] - 39s 162ms/step - loss: 0.0052 - accuracy: 0.9970 - val_loss: 0.3795 - val_accuracy: 0.8978\n",
            "61/61 [==============================] - 1s 15ms/step - loss: 0.3795 - accuracy: 0.8978\n",
            "Acurácia: 89.78%\n"
          ]
        }
      ]
    },
    {
      "cell_type": "code",
      "source": [
        "#Métrica de avaliação do modelo\n",
        "predictions3 = fakeDETECTOR3.predict(val_sequences)\n",
        "rounded_predictions3 = np.round(predictions3).astype(int)\n",
        "\n",
        "report = classification_report(y_val, rounded_predictions3)\n",
        "print(report)"
      ],
      "metadata": {
        "id": "hbqI9_Y1TB6g"
      },
      "execution_count": null,
      "outputs": []
    },
    {
      "cell_type": "code",
      "source": [
        "history3.history.keys()"
      ],
      "metadata": {
        "colab": {
          "base_uri": "https://localhost:8080/"
        },
        "id": "4OsCgMcdt-Vr",
        "outputId": "eb0e6e46-6086-4d32-e37e-b1f9bde69faa"
      },
      "execution_count": 53,
      "outputs": [
        {
          "output_type": "execute_result",
          "data": {
            "text/plain": [
              "dict_keys(['loss', 'accuracy', 'val_loss', 'val_accuracy'])"
            ]
          },
          "metadata": {},
          "execution_count": 53
        }
      ]
    },
    {
      "cell_type": "code",
      "source": [
        "# Calcular a métrica F1-score para o treinamento e validação em cada época\n",
        "train_f1_scores = [f1_score(y_train, (fakeDETECTOR3.predict(train_sequences) > 0.5).astype(int)) for _ in range(len(history3.history['accuracy']))]\n",
        "val_f1_scores = [f1_score(y_val, (fakeDETECTOR3.predict(val_sequences) > 0.5).astype(int)) for _ in range(len(history3.history['accuracy']))]\n",
        "\n",
        "# Plotar progresso da acurácia e F1-score do modelo durante o treinamento e validação\n",
        "plt.plot(history3.history['accuracy'], label='Acurácia no treino')\n",
        "plt.plot(history3.history['val_accuracy'], label='Acurácia na validação')\n",
        "plt.plot(train_f1_scores, label='F1-score no treino')\n",
        "plt.plot(val_f1_scores, label='F1-score na validação')\n",
        "\n",
        "# Exibir os valores de acurácia e F1-score em cada ponto do gráfico\n",
        "for i, acc in enumerate(history3.history['accuracy']):\n",
        "    plt.text(i, acc, f\"{acc:.4f}\", ha='center', va='bottom')\n",
        "    plt.text(i, train_f1_scores[i], f\"{train_f1_scores[i]:.4f}\", ha='center', va='bottom')\n",
        "    plt.text(i, history3.history['val_accuracy'][i], f\"{history3.history['val_accuracy'][i]:.4f}\", ha='center', va='bottom')\n",
        "    plt.text(i, val_f1_scores[i], f\"{val_f1_scores[i]:.4f}\", ha='center', va='bottom')\n",
        "\n",
        "plt.title('Progresso da acurácia e F1-score do modelo durante o treinamento e validação')\n",
        "plt.xlabel('Época')\n",
        "plt.ylabel('Acurácia / F1-score')\n",
        "plt.legend()\n",
        "plt.show()"
      ],
      "metadata": {
        "colab": {
          "base_uri": "https://localhost:8080/",
          "height": 821
        },
        "id": "yEgjjUbE7aBz",
        "outputId": "8d838440-55c5-4106-fe9f-cd8d7b15993c"
      },
      "execution_count": 54,
      "outputs": [
        {
          "output_type": "stream",
          "name": "stdout",
          "text": [
            "243/243 [==============================] - 6s 23ms/step\n",
            "243/243 [==============================] - 6s 25ms/step\n",
            "243/243 [==============================] - 6s 25ms/step\n",
            "243/243 [==============================] - 3s 12ms/step\n",
            "243/243 [==============================] - 3s 13ms/step\n",
            "243/243 [==============================] - 5s 19ms/step\n",
            "243/243 [==============================] - 3s 12ms/step\n",
            "243/243 [==============================] - 3s 12ms/step\n",
            "243/243 [==============================] - 4s 17ms/step\n",
            "243/243 [==============================] - 4s 15ms/step\n",
            "61/61 [==============================] - 1s 24ms/step\n",
            "61/61 [==============================] - 1s 14ms/step\n",
            "61/61 [==============================] - 1s 22ms/step\n",
            "61/61 [==============================] - 1s 18ms/step\n",
            "61/61 [==============================] - 1s 22ms/step\n",
            "61/61 [==============================] - 1s 15ms/step\n",
            "61/61 [==============================] - 1s 12ms/step\n",
            "61/61 [==============================] - 1s 12ms/step\n",
            "61/61 [==============================] - 1s 13ms/step\n",
            "61/61 [==============================] - 1s 13ms/step\n"
          ]
        },
        {
          "output_type": "display_data",
          "data": {
            "text/plain": [
              "<Figure size 640x480 with 1 Axes>"
            ],
            "image/png": "[encoded data removed]"
          },
          "metadata": {}
        }
      ]
    },
    {
      "cell_type": "code",
      "source": [
        "#Resultado em um dataframe\n",
        "results3 = []\n",
        "\n",
        "for i, acc in enumerate(history3.history['accuracy']):\n",
        "    result = {\n",
        "        'Época': i + 1,\n",
        "        #'Acurácia no Treino': acc,\n",
        "        #'F1-score no Treino': train_f1_scores[i],\n",
        "        'Acurácia na Validação': history3.history['val_accuracy'][i],\n",
        "        'F1-score na Validação': val_f1_scores[i]\n",
        "    }\n",
        "    results3.append(result)\n",
        "\n",
        "df_results3 = pd.DataFrame(results3)\n",
        "df_results3"
      ],
      "metadata": {
        "colab": {
          "base_uri": "https://localhost:8080/",
          "height": 363
        },
        "id": "ONolxxyBRtW1",
        "outputId": "a4599aab-1e93-453b-b6a2-d94aedc867cc"
      },
      "execution_count": 56,
      "outputs": [
        {
          "output_type": "execute_result",
          "data": {
            "text/plain": [
              "   Época  Acurácia na Validação  F1-score na Validação\n",
              "0      1               0.875065               0.884075\n",
              "1      2               0.908622               0.884075\n",
              "2      3               0.906040               0.884075\n",
              "3      4               0.898296               0.884075\n",
              "4      5               0.903975               0.884075\n",
              "5      6               0.897780               0.884075\n",
              "6      7               0.905524               0.884075\n",
              "7      8               0.906557               0.884075\n",
              "8      9               0.906557               0.884075\n",
              "9     10               0.897780               0.884075"
            ],
            "text/html": [
              "\n",
              "  <div id=\"df-38fbc82f-cf60-4d4b-b181-2fba74155b29\" class=\"colab-df-container\">\n",
              "    <div>\n",
              "<style scoped>\n",
              "    .dataframe tbody tr th:only-of-type {\n",
              "        vertical-align: middle;\n",
              "    }\n",
              "\n",
              "    .dataframe tbody tr th {\n",
              "        vertical-align: top;\n",
              "    }\n",
              "\n",
              "    .dataframe thead th {\n",
              "        text-align: right;\n",
              "    }\n",
              "</style>\n",
              "<table border=\"1\" class=\"dataframe\">\n",
              "  <thead>\n",
              "    <tr style=\"text-align: right;\">\n",
              "      <th></th>\n",
              "      <th>Época</th>\n",
              "      <th>Acurácia na Validação</th>\n",
              "      <th>F1-score na Validação</th>\n",
              "    </tr>\n",
              "  </thead>\n",
              "  <tbody>\n",
              "    <tr>\n",
              "      <th>0</th>\n",
              "      <td>1</td>\n",
              "      <td>0.875065</td>\n",
              "      <td>0.884075</td>\n",
              "    </tr>\n",
              "    <tr>\n",
              "      <th>1</th>\n",
              "      <td>2</td>\n",
              "      <td>0.908622</td>\n",
              "      <td>0.884075</td>\n",
              "    </tr>\n",
              "    <tr>\n",
              "      <th>2</th>\n",
              "      <td>3</td>\n",
              "      <td>0.906040</td>\n",
              "      <td>0.884075</td>\n",
              "    </tr>\n",
              "    <tr>\n",
              "      <th>3</th>\n",
              "      <td>4</td>\n",
              "      <td>0.898296</td>\n",
              "      <td>0.884075</td>\n",
              "    </tr>\n",
              "    <tr>\n",
              "      <th>4</th>\n",
              "      <td>5</td>\n",
              "      <td>0.903975</td>\n",
              "      <td>0.884075</td>\n",
              "    </tr>\n",
              "    <tr>\n",
              "      <th>5</th>\n",
              "      <td>6</td>\n",
              "      <td>0.897780</td>\n",
              "      <td>0.884075</td>\n",
              "    </tr>\n",
              "    <tr>\n",
              "      <th>6</th>\n",
              "      <td>7</td>\n",
              "      <td>0.905524</td>\n",
              "      <td>0.884075</td>\n",
              "    </tr>\n",
              "    <tr>\n",
              "      <th>7</th>\n",
              "      <td>8</td>\n",
              "      <td>0.906557</td>\n",
              "      <td>0.884075</td>\n",
              "    </tr>\n",
              "    <tr>\n",
              "      <th>8</th>\n",
              "      <td>9</td>\n",
              "      <td>0.906557</td>\n",
              "      <td>0.884075</td>\n",
              "    </tr>\n",
              "    <tr>\n",
              "      <th>9</th>\n",
              "      <td>10</td>\n",
              "      <td>0.897780</td>\n",
              "      <td>0.884075</td>\n",
              "    </tr>\n",
              "  </tbody>\n",
              "</table>\n",
              "</div>\n",
              "    <div class=\"colab-df-buttons\">\n",
              "\n",
              "  <div class=\"colab-df-container\">\n",
              "    <button class=\"colab-df-convert\" onclick=\"convertToInteractive('df-38fbc82f-cf60-4d4b-b181-2fba74155b29')\"\n",
              "            title=\"Convert this dataframe to an interactive table.\"\n",
              "            style=\"display:none;\">\n",
              "\n",
              "  <svg xmlns=\"http://www.w3.org/2000/svg\" height=\"24px\" viewBox=\"0 -960 960 960\">\n",
              "    <path d=\"M120-120v-720h720v720H120Zm60-500h600v-160H180v160Zm220 220h160v-160H400v160Zm0 220h160v-160H400v160ZM180-400h160v-160H180v160Zm440 0h160v-160H620v160ZM180-180h160v-160H180v160Zm440 0h160v-160H620v160Z\"/>\n",
              "  </svg>\n",
              "    </button>\n",
              "\n",
              "  <style>\n",
              "    .colab-df-container {\n",
              "      display:flex;\n",
              "      gap: 12px;\n",
              "    }\n",
              "\n",
              "    .colab-df-convert {\n",
              "      background-color: #E8F0FE;\n",
              "      border: none;\n",
              "      border-radius: 50%;\n",
              "      cursor: pointer;\n",
              "      display: none;\n",
              "      fill: #1967D2;\n",
              "      height: 32px;\n",
              "      padding: 0 0 0 0;\n",
              "      width: 32px;\n",
              "    }\n",
              "\n",
              "    .colab-df-convert:hover {\n",
              "      background-color: #E2EBFA;\n",
              "      box-shadow: 0px 1px 2px rgba(60, 64, 67, 0.3), 0px 1px 3px 1px rgba(60, 64, 67, 0.15);\n",
              "      fill: #174EA6;\n",
              "    }\n",
              "\n",
              "    .colab-df-buttons div {\n",
              "      margin-bottom: 4px;\n",
              "    }\n",
              "\n",
              "    [theme=dark] .colab-df-convert {\n",
              "      background-color: #3B4455;\n",
              "      fill: #D2E3FC;\n",
              "    }\n",
              "\n",
              "    [theme=dark] .colab-df-convert:hover {\n",
              "      background-color: #434B5C;\n",
              "      box-shadow: 0px 1px 3px 1px rgba(0, 0, 0, 0.15);\n",
              "      filter: drop-shadow(0px 1px 2px rgba(0, 0, 0, 0.3));\n",
              "      fill: #FFFFFF;\n",
              "    }\n",
              "  </style>\n",
              "\n",
              "    <script>\n",
              "      const buttonEl =\n",
              "        document.querySelector('#df-38fbc82f-cf60-4d4b-b181-2fba74155b29 button.colab-df-convert');\n",
              "      buttonEl.style.display =\n",
              "        google.colab.kernel.accessAllowed ? 'block' : 'none';\n",
              "\n",
              "      async function convertToInteractive(key) {\n",
              "        const element = document.querySelector('#df-38fbc82f-cf60-4d4b-b181-2fba74155b29');\n",
              "        const dataTable =\n",
              "          await google.colab.kernel.invokeFunction('convertToInteractive',\n",
              "                                                    [key], {});\n",
              "        if (!dataTable) return;\n",
              "\n",
              "        const docLinkHtml = 'Like what you see? Visit the ' +\n",
              "          '<a target=\"_blank\" href=https://colab.research.google.com/notebooks/data_table.ipynb>data table notebook</a>'\n",
              "          + ' to learn more about interactive tables.';\n",
              "        element.innerHTML = '';\n",
              "        dataTable['output_type'] = 'display_data';\n",
              "        await google.colab.output.renderOutput(dataTable, element);\n",
              "        const docLink = document.createElement('div');\n",
              "        docLink.innerHTML = docLinkHtml;\n",
              "        element.appendChild(docLink);\n",
              "      }\n",
              "    </script>\n",
              "  </div>\n",
              "\n",
              "\n",
              "<div id=\"df-560d1709-12c5-42d7-bc92-3744ce5c9ce9\">\n",
              "  <button class=\"colab-df-quickchart\" onclick=\"quickchart('df-560d1709-12c5-42d7-bc92-3744ce5c9ce9')\"\n",
              "            title=\"Suggest charts.\"\n",
              "            style=\"display:none;\">\n",
              "\n",
              "<svg xmlns=\"http://www.w3.org/2000/svg\" height=\"24px\"viewBox=\"0 0 24 24\"\n",
              "     width=\"24px\">\n",
              "    <g>\n",
              "        <path d=\"M19 3H5c-1.1 0-2 .9-2 2v14c0 1.1.9 2 2 2h14c1.1 0 2-.9 2-2V5c0-1.1-.9-2-2-2zM9 17H7v-7h2v7zm4 0h-2V7h2v10zm4 0h-2v-4h2v4z\"/>\n",
              "    </g>\n",
              "</svg>\n",
              "  </button>\n",
              "\n",
              "<style>\n",
              "  .colab-df-quickchart {\n",
              "      --bg-color: #E8F0FE;\n",
              "      --fill-color: #1967D2;\n",
              "      --hover-bg-color: #E2EBFA;\n",
              "      --hover-fill-color: #174EA6;\n",
              "      --disabled-fill-color: #AAA;\n",
              "      --disabled-bg-color: #DDD;\n",
              "  }\n",
              "\n",
              "  [theme=dark] .colab-df-quickchart {\n",
              "      --bg-color: #3B4455;\n",
              "      --fill-color: #D2E3FC;\n",
              "      --hover-bg-color: #434B5C;\n",
              "      --hover-fill-color: #FFFFFF;\n",
              "      --disabled-bg-color: #3B4455;\n",
              "      --disabled-fill-color: #666;\n",
              "  }\n",
              "\n",
              "  .colab-df-quickchart {\n",
              "    background-color: var(--bg-color);\n",
              "    border: none;\n",
              "    border-radius: 50%;\n",
              "    cursor: pointer;\n",
              "    display: none;\n",
              "    fill: var(--fill-color);\n",
              "    height: 32px;\n",
              "    padding: 0;\n",
              "    width: 32px;\n",
              "  }\n",
              "\n",
              "  .colab-df-quickchart:hover {\n",
              "    background-color: var(--hover-bg-color);\n",
              "    box-shadow: 0 1px 2px rgba(60, 64, 67, 0.3), 0 1px 3px 1px rgba(60, 64, 67, 0.15);\n",
              "    fill: var(--button-hover-fill-color);\n",
              "  }\n",
              "\n",
              "  .colab-df-quickchart-complete:disabled,\n",
              "  .colab-df-quickchart-complete:disabled:hover {\n",
              "    background-color: var(--disabled-bg-color);\n",
              "    fill: var(--disabled-fill-color);\n",
              "    box-shadow: none;\n",
              "  }\n",
              "\n",
              "  .colab-df-spinner {\n",
              "    border: 2px solid var(--fill-color);\n",
              "    border-color: transparent;\n",
              "    border-bottom-color: var(--fill-color);\n",
              "    animation:\n",
              "      spin 1s steps(1) infinite;\n",
              "  }\n",
              "\n",
              "  @keyframes spin {\n",
              "    0% {\n",
              "      border-color: transparent;\n",
              "      border-bottom-color: var(--fill-color);\n",
              "      border-left-color: var(--fill-color);\n",
              "    }\n",
              "    20% {\n",
              "      border-color: transparent;\n",
              "      border-left-color: var(--fill-color);\n",
              "      border-top-color: var(--fill-color);\n",
              "    }\n",
              "    30% {\n",
              "      border-color: transparent;\n",
              "      border-left-color: var(--fill-color);\n",
              "      border-top-color: var(--fill-color);\n",
              "      border-right-color: var(--fill-color);\n",
              "    }\n",
              "    40% {\n",
              "      border-color: transparent;\n",
              "      border-right-color: var(--fill-color);\n",
              "      border-top-color: var(--fill-color);\n",
              "    }\n",
              "    60% {\n",
              "      border-color: transparent;\n",
              "      border-right-color: var(--fill-color);\n",
              "    }\n",
              "    80% {\n",
              "      border-color: transparent;\n",
              "      border-right-color: var(--fill-color);\n",
              "      border-bottom-color: var(--fill-color);\n",
              "    }\n",
              "    90% {\n",
              "      border-color: transparent;\n",
              "      border-bottom-color: var(--fill-color);\n",
              "    }\n",
              "  }\n",
              "</style>\n",
              "\n",
              "  <script>\n",
              "    async function quickchart(key) {\n",
              "      const quickchartButtonEl =\n",
              "        document.querySelector('#' + key + ' button');\n",
              "      quickchartButtonEl.disabled = true;  // To prevent multiple clicks.\n",
              "      quickchartButtonEl.classList.add('colab-df-spinner');\n",
              "      try {\n",
              "        const charts = await google.colab.kernel.invokeFunction(\n",
              "            'suggestCharts', [key], {});\n",
              "      } catch (error) {\n",
              "        console.error('Error during call to suggestCharts:', error);\n",
              "      }\n",
              "      quickchartButtonEl.classList.remove('colab-df-spinner');\n",
              "      quickchartButtonEl.classList.add('colab-df-quickchart-complete');\n",
              "    }\n",
              "    (() => {\n",
              "      let quickchartButtonEl =\n",
              "        document.querySelector('#df-560d1709-12c5-42d7-bc92-3744ce5c9ce9 button');\n",
              "      quickchartButtonEl.style.display =\n",
              "        google.colab.kernel.accessAllowed ? 'block' : 'none';\n",
              "    })();\n",
              "  </script>\n",
              "</div>\n",
              "    </div>\n",
              "  </div>\n"
            ]
          },
          "metadata": {},
          "execution_count": 56
        }
      ]
    },
    {
      "cell_type": "markdown",
      "source": [
        "###Fazendo previsões utilizando o modelo fakeDETECTOR"
      ],
      "metadata": {
        "id": "ijWqRYuDrlRk"
      }
    },
    {
      "cell_type": "code",
      "source": [
        "text = \"O aparecimento de surtos de Covid-19 em diferentes coros levantou a\"\n",
        "#text = \"Infelizmente é confirmado ‘acaba de falecer’. Apresentador José Luiz Datena (com letras pequenas) sofre perda e está de (com letras grandes) Luto. LUT0: Infelizmente Nosso amado Datena da Band, horas após cirurgia delicada recebe pior das notícias\"\n",
        "\n",
        "text = text.lower()\n",
        "text = re.sub(r\"[^\\w\\s]\", \"\", text)\n",
        "text_sequence = tokenizer.texts_to_sequences([text])\n",
        "text_sequence = pad_sequences(text_sequence, maxlen=max_sequence_length)\n",
        "prediction = fakeDETECTOR.predict(text_sequence)\n",
        "#prediction = fakeDETECTOR.predict_classes(text_sequence)\n",
        "prediction_classes = (prediction > 0.5).astype(int)\n",
        "print(prediction_classes[0][0])"
      ],
      "metadata": {
        "colab": {
          "base_uri": "https://localhost:8080/"
        },
        "id": "r2AYuLpapV-j",
        "outputId": "84d12e04-37da-4b90-b72d-8047f1ffe72b"
      },
      "execution_count": null,
      "outputs": [
        {
          "output_type": "stream",
          "name": "stdout",
          "text": [
            "1/1 [==============================] - 0s 44ms/step\n",
            "1\n"
          ]
        }
      ]
    },
    {
      "cell_type": "markdown",
      "source": [
        "###Salvando o modelo treinado"
      ],
      "metadata": {
        "id": "6Pd25wJ9kDVB"
      }
    },
    {
      "cell_type": "code",
      "source": [
        "fakeDETECTOR.save('/content/modelo/fakeDETECTOR.h5')"
      ],
      "metadata": {
        "colab": {
          "base_uri": "https://localhost:8080/"
        },
        "id": "U1kU7yvMkHIo",
        "outputId": "55970d5d-4f09-4967-bead-7377d5f0c526"
      },
      "execution_count": null,
      "outputs": [
        {
          "output_type": "stream",
          "name": "stderr",
          "text": [
            "/usr/local/lib/python3.10/dist-packages/keras/src/engine/training.py:3000: UserWarning: You are saving your model as an HDF5 file via `model.save()`. This file format is considered legacy. We recommend using instead the native Keras format, e.g. `model.save('my_model.keras')`.\n",
            "  saving_api.save_model(\n"
          ]
        }
      ]
    },
    {
      "cell_type": "code",
      "source": [
        "#!pip install tensorflowjs\n",
        "import tensorflowjs as tfjs\n",
        "\n",
        "# Caminho para o modelo .h5\n",
        "h5_path = '/content/modelo/fakeDETECTOR.h5'\n",
        "\n",
        "# Caminho de destino para salvar o modelo convertido\n",
        "output_path = '/content/'\n",
        "\n",
        "# Converter o modelo\n",
        "tfjs.converters.save_keras_model(model, output_path)"
      ],
      "metadata": {
        "id": "3rFeBEHBBt1b"
      },
      "execution_count": null,
      "outputs": []
    },
    {
      "cell_type": "code",
      "source": [],
      "metadata": {
        "id": "44dwD7kpFLyN"
      },
      "execution_count": null,
      "outputs": []
    }
  ]
}